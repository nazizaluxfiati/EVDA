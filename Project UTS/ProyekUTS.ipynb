{
 "cells": [
  {
   "cell_type": "markdown",
   "metadata": {
    "id": "FA3sBMKnPns1"
   },
   "source": [
    "**1. Import Library yang akan digunakan**"
   ]
  },
  {
   "cell_type": "code",
   "execution_count": 34,
   "metadata": {
    "id": "MbHVWP2zPWou"
   },
   "outputs": [],
   "source": [
    "import os #paths to file\n",
    "import numpy as np # linear algebra\n",
    "import pandas as pd # data processing\n",
    "import warnings# warning filter\n",
    "import datetime as dt #for timestamp\n",
    "import matplotlib\n",
    "import matplotlib.pyplot as plt\n",
    "import seaborn as sns\n",
    "\n",
    "warnings.filterwarnings('ignore')"
   ]
  },
  {
   "cell_type": "markdown",
   "metadata": {
    "id": "v1opnjK-PvHj"
   },
   "source": [
    "**2. Mengambil Data**"
   ]
  },
  {
   "cell_type": "code",
   "execution_count": 35,
   "metadata": {
    "colab": {
     "base_uri": "https://localhost:8080/"
    },
    "id": "3H86CdrcPygS",
    "outputId": "bd4d71d3-5f63-4059-b065-fe9c2bf8a554"
   },
   "outputs": [
    {
     "name": "stdout",
     "output_type": "stream",
     "text": [
      "Drive already mounted at /content/drive; to attempt to forcibly remount, call drive.mount(\"/content/drive\", force_remount=True).\n"
     ]
    }
   ],
   "source": [
    "#Menautkan Google Drive dengan Google Colab\n",
    "\n",
    "from google.colab import drive\n",
    "drive.mount('/content/drive')"
   ]
  },
  {
   "cell_type": "code",
   "execution_count": 36,
   "metadata": {
    "id": "cuvmazfvP9WU"
   },
   "outputs": [],
   "source": [
    "#Path dari masing_masing data di google drive\n",
    "\n",
    "build_path = \"/content/drive/MyDrive/ProjectUTSEVDA/building_metadata.csv\" \n",
    "enTrain_path = \"/content/drive/MyDrive/ProjectUTSEVDA/train.csv\"\n",
    "wtTrain_path = \"/content/drive/MyDrive/ProjectUTSEVDA/weather_train.csv\"\n",
    "enTest_path = \"/content/drive/MyDrive/ProjectUTSEVDA/test.csv\"\n",
    "wtTest_path = \"/content/drive/MyDrive/ProjectUTSEVDA/weather_test.csv\""
   ]
  },
  {
   "cell_type": "code",
   "execution_count": 37,
   "metadata": {
    "id": "8LjEmK6GRhZM"
   },
   "outputs": [],
   "source": [
    "#Mount data dengan Pandas\n",
    "\n",
    "df_build = pd.read_csv(build_path) #Dataframe Building_Metadata\n",
    "df_enTrain = pd.read_csv(enTrain_path) #Dataframe train\n",
    "df_wtTrain = pd.read_csv(wtTrain_path) #Dataframe weather train\n",
    "df_enTest = pd.read_csv(enTest_path) #Dataframe test\n",
    "df_wtTest = pd.read_csv(wtTest_path) #Dataframe weather test"
   ]
  },
  {
   "cell_type": "markdown",
   "metadata": {
    "id": "j88knIT7QPBq"
   },
   "source": [
    "**3. Melihat informasi dari tiap data**\n",
    "\n",
    "Data yang terdapat pada tiap file csv\n",
    "\n",
    "**building_metadata.csv:** Metadata untuk semua bangunan di berbagai tempat. didalam file tersebut berisi:\n",
    "\n",
    "* site_id — ID untuk file cuaca.\n",
    "* building_id — ID untuk training.csv\n",
    "* primary_use — Indikator kategori utama aktivitas untuk bangunan berdasarkan definisi tipe properti EnergyStar\n",
    "* square_feet — Luas lantai kotor bangunan\n",
    "* year_built — Tahun bangunan dibuka\n",
    "* floor_count — Jumlah lantai bangunan\n",
    "\n",
    "**train.csv/test.csv:** Berisi id bangunan, id meter, catatan waktu saat pengukuran meteran dilakukan dan pembacaan meter yang merupakan variabel target.\n",
    "\n",
    "* building_id — ID untuk metadata bangunan.\n",
    "* meter — Kode id meter. Dibaca sebagai {0: listrik, 1: air dingin, 2: uap, 3: air panas}. Tidak setiap bangunan memiliki semua jenis id meteran.\n",
    "* timestamp — Saat pengukuran dilakukan\n",
    "* meter_reading — Variabel target. Konsumsi energi dalam kWh (atau setara)\n",
    "\n",
    "**weather_train.csv/weather_test.csv:** Data cuaca dari stasiun metrologi yang terdekat dengan lokasi.\n",
    "\n",
    "* site_id- id lokasi bangunan\n",
    "* air_temperature — Derajat Celcius\n",
    "* cloud_coverage — Bagian dari langit yang tertutup awan, dalam oktas\n",
    "* dew_temperature — Derajat Celcius\n",
    "* precip_depth_1_hr — Milimeter\n",
    "* sea_level_pressure — Milibar/hectopascals\n",
    "* wind_direction — Arah kompas (0–360)\n",
    "* wind_speed — Meter per detik"
   ]
  },
  {
   "cell_type": "code",
   "execution_count": 38,
   "metadata": {
    "colab": {
     "base_uri": "https://localhost:8080/"
    },
    "id": "XYb-DOWRRCs_",
    "outputId": "391cf8f0-bc5a-413d-b236-14c24c9b6a86"
   },
   "outputs": [
    {
     "name": "stdout",
     "output_type": "stream",
     "text": [
      "<class 'pandas.core.frame.DataFrame'>\n",
      "RangeIndex: 1449 entries, 0 to 1448\n",
      "Data columns (total 6 columns):\n",
      " #   Column       Non-Null Count  Dtype  \n",
      "---  ------       --------------  -----  \n",
      " 0   site_id      1449 non-null   int64  \n",
      " 1   building_id  1449 non-null   int64  \n",
      " 2   primary_use  1449 non-null   object \n",
      " 3   square_feet  1449 non-null   int64  \n",
      " 4   year_built   675 non-null    float64\n",
      " 5   floor_count  355 non-null    float64\n",
      "dtypes: float64(2), int64(3), object(1)\n",
      "memory usage: 68.0+ KB\n"
     ]
    }
   ],
   "source": [
    "# Informasi dari data Metadata Bangunan (df_build)\n",
    "\n",
    "df_build.info()"
   ]
  },
  {
   "cell_type": "code",
   "execution_count": 39,
   "metadata": {
    "colab": {
     "base_uri": "https://localhost:8080/",
     "height": 206
    },
    "id": "K6vZM0tASIFT",
    "outputId": "9df978dc-807b-42b7-87da-979ac02d935a"
   },
   "outputs": [
    {
     "data": {
      "text/html": [
       "\n",
       "  <div id=\"df-3e41657e-b85c-46c4-9489-93369813827b\">\n",
       "    <div class=\"colab-df-container\">\n",
       "      <div>\n",
       "<style scoped>\n",
       "    .dataframe tbody tr th:only-of-type {\n",
       "        vertical-align: middle;\n",
       "    }\n",
       "\n",
       "    .dataframe tbody tr th {\n",
       "        vertical-align: top;\n",
       "    }\n",
       "\n",
       "    .dataframe thead th {\n",
       "        text-align: right;\n",
       "    }\n",
       "</style>\n",
       "<table border=\"1\" class=\"dataframe\">\n",
       "  <thead>\n",
       "    <tr style=\"text-align: right;\">\n",
       "      <th></th>\n",
       "      <th>count</th>\n",
       "      <th>mean</th>\n",
       "      <th>std</th>\n",
       "      <th>min</th>\n",
       "      <th>25%</th>\n",
       "      <th>50%</th>\n",
       "      <th>75%</th>\n",
       "      <th>max</th>\n",
       "    </tr>\n",
       "  </thead>\n",
       "  <tbody>\n",
       "    <tr>\n",
       "      <th>site_id</th>\n",
       "      <td>1449.0</td>\n",
       "      <td>6.952381</td>\n",
       "      <td>5.003432</td>\n",
       "      <td>0.0</td>\n",
       "      <td>3.0</td>\n",
       "      <td>5.0</td>\n",
       "      <td>13.0</td>\n",
       "      <td>15.0</td>\n",
       "    </tr>\n",
       "    <tr>\n",
       "      <th>building_id</th>\n",
       "      <td>1449.0</td>\n",
       "      <td>724.000000</td>\n",
       "      <td>418.434583</td>\n",
       "      <td>0.0</td>\n",
       "      <td>362.0</td>\n",
       "      <td>724.0</td>\n",
       "      <td>1086.0</td>\n",
       "      <td>1448.0</td>\n",
       "    </tr>\n",
       "    <tr>\n",
       "      <th>square_feet</th>\n",
       "      <td>1449.0</td>\n",
       "      <td>92111.776398</td>\n",
       "      <td>110769.950997</td>\n",
       "      <td>283.0</td>\n",
       "      <td>23012.0</td>\n",
       "      <td>57673.0</td>\n",
       "      <td>115676.0</td>\n",
       "      <td>875000.0</td>\n",
       "    </tr>\n",
       "    <tr>\n",
       "      <th>year_built</th>\n",
       "      <td>675.0</td>\n",
       "      <td>1967.957037</td>\n",
       "      <td>31.054030</td>\n",
       "      <td>1900.0</td>\n",
       "      <td>1949.0</td>\n",
       "      <td>1970.0</td>\n",
       "      <td>1995.0</td>\n",
       "      <td>2017.0</td>\n",
       "    </tr>\n",
       "    <tr>\n",
       "      <th>floor_count</th>\n",
       "      <td>355.0</td>\n",
       "      <td>3.740845</td>\n",
       "      <td>3.333683</td>\n",
       "      <td>1.0</td>\n",
       "      <td>1.0</td>\n",
       "      <td>3.0</td>\n",
       "      <td>5.0</td>\n",
       "      <td>26.0</td>\n",
       "    </tr>\n",
       "  </tbody>\n",
       "</table>\n",
       "</div>\n",
       "      <button class=\"colab-df-convert\" onclick=\"convertToInteractive('df-3e41657e-b85c-46c4-9489-93369813827b')\"\n",
       "              title=\"Convert this dataframe to an interactive table.\"\n",
       "              style=\"display:none;\">\n",
       "        \n",
       "  <svg xmlns=\"http://www.w3.org/2000/svg\" height=\"24px\"viewBox=\"0 0 24 24\"\n",
       "       width=\"24px\">\n",
       "    <path d=\"M0 0h24v24H0V0z\" fill=\"none\"/>\n",
       "    <path d=\"M18.56 5.44l.94 2.06.94-2.06 2.06-.94-2.06-.94-.94-2.06-.94 2.06-2.06.94zm-11 1L8.5 8.5l.94-2.06 2.06-.94-2.06-.94L8.5 2.5l-.94 2.06-2.06.94zm10 10l.94 2.06.94-2.06 2.06-.94-2.06-.94-.94-2.06-.94 2.06-2.06.94z\"/><path d=\"M17.41 7.96l-1.37-1.37c-.4-.4-.92-.59-1.43-.59-.52 0-1.04.2-1.43.59L10.3 9.45l-7.72 7.72c-.78.78-.78 2.05 0 2.83L4 21.41c.39.39.9.59 1.41.59.51 0 1.02-.2 1.41-.59l7.78-7.78 2.81-2.81c.8-.78.8-2.07 0-2.86zM5.41 20L4 18.59l7.72-7.72 1.47 1.35L5.41 20z\"/>\n",
       "  </svg>\n",
       "      </button>\n",
       "      \n",
       "  <style>\n",
       "    .colab-df-container {\n",
       "      display:flex;\n",
       "      flex-wrap:wrap;\n",
       "      gap: 12px;\n",
       "    }\n",
       "\n",
       "    .colab-df-convert {\n",
       "      background-color: #E8F0FE;\n",
       "      border: none;\n",
       "      border-radius: 50%;\n",
       "      cursor: pointer;\n",
       "      display: none;\n",
       "      fill: #1967D2;\n",
       "      height: 32px;\n",
       "      padding: 0 0 0 0;\n",
       "      width: 32px;\n",
       "    }\n",
       "\n",
       "    .colab-df-convert:hover {\n",
       "      background-color: #E2EBFA;\n",
       "      box-shadow: 0px 1px 2px rgba(60, 64, 67, 0.3), 0px 1px 3px 1px rgba(60, 64, 67, 0.15);\n",
       "      fill: #174EA6;\n",
       "    }\n",
       "\n",
       "    [theme=dark] .colab-df-convert {\n",
       "      background-color: #3B4455;\n",
       "      fill: #D2E3FC;\n",
       "    }\n",
       "\n",
       "    [theme=dark] .colab-df-convert:hover {\n",
       "      background-color: #434B5C;\n",
       "      box-shadow: 0px 1px 3px 1px rgba(0, 0, 0, 0.15);\n",
       "      filter: drop-shadow(0px 1px 2px rgba(0, 0, 0, 0.3));\n",
       "      fill: #FFFFFF;\n",
       "    }\n",
       "  </style>\n",
       "\n",
       "      <script>\n",
       "        const buttonEl =\n",
       "          document.querySelector('#df-3e41657e-b85c-46c4-9489-93369813827b button.colab-df-convert');\n",
       "        buttonEl.style.display =\n",
       "          google.colab.kernel.accessAllowed ? 'block' : 'none';\n",
       "\n",
       "        async function convertToInteractive(key) {\n",
       "          const element = document.querySelector('#df-3e41657e-b85c-46c4-9489-93369813827b');\n",
       "          const dataTable =\n",
       "            await google.colab.kernel.invokeFunction('convertToInteractive',\n",
       "                                                     [key], {});\n",
       "          if (!dataTable) return;\n",
       "\n",
       "          const docLinkHtml = 'Like what you see? Visit the ' +\n",
       "            '<a target=\"_blank\" href=https://colab.research.google.com/notebooks/data_table.ipynb>data table notebook</a>'\n",
       "            + ' to learn more about interactive tables.';\n",
       "          element.innerHTML = '';\n",
       "          dataTable['output_type'] = 'display_data';\n",
       "          await google.colab.output.renderOutput(dataTable, element);\n",
       "          const docLink = document.createElement('div');\n",
       "          docLink.innerHTML = docLinkHtml;\n",
       "          element.appendChild(docLink);\n",
       "        }\n",
       "      </script>\n",
       "    </div>\n",
       "  </div>\n",
       "  "
      ],
      "text/plain": [
       "              count          mean            std     min      25%      50%  \\\n",
       "site_id      1449.0      6.952381       5.003432     0.0      3.0      5.0   \n",
       "building_id  1449.0    724.000000     418.434583     0.0    362.0    724.0   \n",
       "square_feet  1449.0  92111.776398  110769.950997   283.0  23012.0  57673.0   \n",
       "year_built    675.0   1967.957037      31.054030  1900.0   1949.0   1970.0   \n",
       "floor_count   355.0      3.740845       3.333683     1.0      1.0      3.0   \n",
       "\n",
       "                  75%       max  \n",
       "site_id          13.0      15.0  \n",
       "building_id    1086.0    1448.0  \n",
       "square_feet  115676.0  875000.0  \n",
       "year_built     1995.0    2017.0  \n",
       "floor_count       5.0      26.0  "
      ]
     },
     "execution_count": 39,
     "metadata": {},
     "output_type": "execute_result"
    }
   ],
   "source": [
    "# Statistika Dasar dari Data Metadata Bangunan\n",
    "\n",
    "df_build.describe().transpose()"
   ]
  },
  {
   "cell_type": "code",
   "execution_count": 40,
   "metadata": {
    "colab": {
     "base_uri": "https://localhost:8080/",
     "height": 206
    },
    "id": "5EGCw7gBSZ9k",
    "outputId": "816de133-1a7c-4360-fba9-171e6f88c501"
   },
   "outputs": [
    {
     "data": {
      "text/html": [
       "\n",
       "  <div id=\"df-c10b65b2-8982-4809-a55e-c1388844e17a\">\n",
       "    <div class=\"colab-df-container\">\n",
       "      <div>\n",
       "<style scoped>\n",
       "    .dataframe tbody tr th:only-of-type {\n",
       "        vertical-align: middle;\n",
       "    }\n",
       "\n",
       "    .dataframe tbody tr th {\n",
       "        vertical-align: top;\n",
       "    }\n",
       "\n",
       "    .dataframe thead th {\n",
       "        text-align: right;\n",
       "    }\n",
       "</style>\n",
       "<table border=\"1\" class=\"dataframe\">\n",
       "  <thead>\n",
       "    <tr style=\"text-align: right;\">\n",
       "      <th></th>\n",
       "      <th>site_id</th>\n",
       "      <th>building_id</th>\n",
       "      <th>primary_use</th>\n",
       "      <th>square_feet</th>\n",
       "      <th>year_built</th>\n",
       "      <th>floor_count</th>\n",
       "    </tr>\n",
       "  </thead>\n",
       "  <tbody>\n",
       "    <tr>\n",
       "      <th>0</th>\n",
       "      <td>0</td>\n",
       "      <td>0</td>\n",
       "      <td>Education</td>\n",
       "      <td>7432</td>\n",
       "      <td>2008.0</td>\n",
       "      <td>NaN</td>\n",
       "    </tr>\n",
       "    <tr>\n",
       "      <th>1</th>\n",
       "      <td>0</td>\n",
       "      <td>1</td>\n",
       "      <td>Education</td>\n",
       "      <td>2720</td>\n",
       "      <td>2004.0</td>\n",
       "      <td>NaN</td>\n",
       "    </tr>\n",
       "    <tr>\n",
       "      <th>2</th>\n",
       "      <td>0</td>\n",
       "      <td>2</td>\n",
       "      <td>Education</td>\n",
       "      <td>5376</td>\n",
       "      <td>1991.0</td>\n",
       "      <td>NaN</td>\n",
       "    </tr>\n",
       "    <tr>\n",
       "      <th>3</th>\n",
       "      <td>0</td>\n",
       "      <td>3</td>\n",
       "      <td>Education</td>\n",
       "      <td>23685</td>\n",
       "      <td>2002.0</td>\n",
       "      <td>NaN</td>\n",
       "    </tr>\n",
       "    <tr>\n",
       "      <th>4</th>\n",
       "      <td>0</td>\n",
       "      <td>4</td>\n",
       "      <td>Education</td>\n",
       "      <td>116607</td>\n",
       "      <td>1975.0</td>\n",
       "      <td>NaN</td>\n",
       "    </tr>\n",
       "  </tbody>\n",
       "</table>\n",
       "</div>\n",
       "      <button class=\"colab-df-convert\" onclick=\"convertToInteractive('df-c10b65b2-8982-4809-a55e-c1388844e17a')\"\n",
       "              title=\"Convert this dataframe to an interactive table.\"\n",
       "              style=\"display:none;\">\n",
       "        \n",
       "  <svg xmlns=\"http://www.w3.org/2000/svg\" height=\"24px\"viewBox=\"0 0 24 24\"\n",
       "       width=\"24px\">\n",
       "    <path d=\"M0 0h24v24H0V0z\" fill=\"none\"/>\n",
       "    <path d=\"M18.56 5.44l.94 2.06.94-2.06 2.06-.94-2.06-.94-.94-2.06-.94 2.06-2.06.94zm-11 1L8.5 8.5l.94-2.06 2.06-.94-2.06-.94L8.5 2.5l-.94 2.06-2.06.94zm10 10l.94 2.06.94-2.06 2.06-.94-2.06-.94-.94-2.06-.94 2.06-2.06.94z\"/><path d=\"M17.41 7.96l-1.37-1.37c-.4-.4-.92-.59-1.43-.59-.52 0-1.04.2-1.43.59L10.3 9.45l-7.72 7.72c-.78.78-.78 2.05 0 2.83L4 21.41c.39.39.9.59 1.41.59.51 0 1.02-.2 1.41-.59l7.78-7.78 2.81-2.81c.8-.78.8-2.07 0-2.86zM5.41 20L4 18.59l7.72-7.72 1.47 1.35L5.41 20z\"/>\n",
       "  </svg>\n",
       "      </button>\n",
       "      \n",
       "  <style>\n",
       "    .colab-df-container {\n",
       "      display:flex;\n",
       "      flex-wrap:wrap;\n",
       "      gap: 12px;\n",
       "    }\n",
       "\n",
       "    .colab-df-convert {\n",
       "      background-color: #E8F0FE;\n",
       "      border: none;\n",
       "      border-radius: 50%;\n",
       "      cursor: pointer;\n",
       "      display: none;\n",
       "      fill: #1967D2;\n",
       "      height: 32px;\n",
       "      padding: 0 0 0 0;\n",
       "      width: 32px;\n",
       "    }\n",
       "\n",
       "    .colab-df-convert:hover {\n",
       "      background-color: #E2EBFA;\n",
       "      box-shadow: 0px 1px 2px rgba(60, 64, 67, 0.3), 0px 1px 3px 1px rgba(60, 64, 67, 0.15);\n",
       "      fill: #174EA6;\n",
       "    }\n",
       "\n",
       "    [theme=dark] .colab-df-convert {\n",
       "      background-color: #3B4455;\n",
       "      fill: #D2E3FC;\n",
       "    }\n",
       "\n",
       "    [theme=dark] .colab-df-convert:hover {\n",
       "      background-color: #434B5C;\n",
       "      box-shadow: 0px 1px 3px 1px rgba(0, 0, 0, 0.15);\n",
       "      filter: drop-shadow(0px 1px 2px rgba(0, 0, 0, 0.3));\n",
       "      fill: #FFFFFF;\n",
       "    }\n",
       "  </style>\n",
       "\n",
       "      <script>\n",
       "        const buttonEl =\n",
       "          document.querySelector('#df-c10b65b2-8982-4809-a55e-c1388844e17a button.colab-df-convert');\n",
       "        buttonEl.style.display =\n",
       "          google.colab.kernel.accessAllowed ? 'block' : 'none';\n",
       "\n",
       "        async function convertToInteractive(key) {\n",
       "          const element = document.querySelector('#df-c10b65b2-8982-4809-a55e-c1388844e17a');\n",
       "          const dataTable =\n",
       "            await google.colab.kernel.invokeFunction('convertToInteractive',\n",
       "                                                     [key], {});\n",
       "          if (!dataTable) return;\n",
       "\n",
       "          const docLinkHtml = 'Like what you see? Visit the ' +\n",
       "            '<a target=\"_blank\" href=https://colab.research.google.com/notebooks/data_table.ipynb>data table notebook</a>'\n",
       "            + ' to learn more about interactive tables.';\n",
       "          element.innerHTML = '';\n",
       "          dataTable['output_type'] = 'display_data';\n",
       "          await google.colab.output.renderOutput(dataTable, element);\n",
       "          const docLink = document.createElement('div');\n",
       "          docLink.innerHTML = docLinkHtml;\n",
       "          element.appendChild(docLink);\n",
       "        }\n",
       "      </script>\n",
       "    </div>\n",
       "  </div>\n",
       "  "
      ],
      "text/plain": [
       "   site_id  building_id primary_use  square_feet  year_built  floor_count\n",
       "0        0            0   Education         7432      2008.0          NaN\n",
       "1        0            1   Education         2720      2004.0          NaN\n",
       "2        0            2   Education         5376      1991.0          NaN\n",
       "3        0            3   Education        23685      2002.0          NaN\n",
       "4        0            4   Education       116607      1975.0          NaN"
      ]
     },
     "execution_count": 40,
     "metadata": {},
     "output_type": "execute_result"
    }
   ],
   "source": [
    "# Menampilkan 5 Data Awal Metadata Bangunan\n",
    "\n",
    "df_build.head()"
   ]
  },
  {
   "cell_type": "code",
   "execution_count": 41,
   "metadata": {
    "colab": {
     "base_uri": "https://localhost:8080/"
    },
    "id": "tP0hjnMuSvzb",
    "outputId": "5f9c5368-48b9-4a89-d4e0-0894095fc5c5"
   },
   "outputs": [
    {
     "data": {
      "text/plain": [
       "site_id           0\n",
       "building_id       0\n",
       "primary_use       0\n",
       "square_feet       0\n",
       "year_built      774\n",
       "floor_count    1094\n",
       "dtype: int64"
      ]
     },
     "execution_count": 41,
     "metadata": {},
     "output_type": "execute_result"
    }
   ],
   "source": [
    "# Check Null Values pada Data Metadata Bangunan\n",
    "\n",
    "df_build.isnull().sum()"
   ]
  },
  {
   "cell_type": "code",
   "execution_count": 42,
   "metadata": {
    "colab": {
     "base_uri": "https://localhost:8080/"
    },
    "id": "YamaDxiMS_2u",
    "outputId": "02f07848-dd35-4a45-9892-88e3127ebfaf"
   },
   "outputs": [
    {
     "name": "stdout",
     "output_type": "stream",
     "text": [
      "<class 'pandas.core.frame.DataFrame'>\n",
      "RangeIndex: 20216100 entries, 0 to 20216099\n",
      "Data columns (total 4 columns):\n",
      " #   Column         Dtype  \n",
      "---  ------         -----  \n",
      " 0   building_id    int64  \n",
      " 1   meter          int64  \n",
      " 2   timestamp      object \n",
      " 3   meter_reading  float64\n",
      "dtypes: float64(1), int64(2), object(1)\n",
      "memory usage: 616.9+ MB\n"
     ]
    }
   ],
   "source": [
    "# Informasi dari data Train (df_enTrain)\n",
    "\n",
    "df_enTrain.info()"
   ]
  },
  {
   "cell_type": "code",
   "execution_count": 43,
   "metadata": {
    "colab": {
     "base_uri": "https://localhost:8080/",
     "height": 143
    },
    "id": "tJI6HMXoTIFz",
    "outputId": "4fa0b1d5-0cba-4185-82a6-63d402d518cf"
   },
   "outputs": [
    {
     "data": {
      "text/html": [
       "\n",
       "  <div id=\"df-c67c9ac1-489f-4b69-a0c5-328059a7ab15\">\n",
       "    <div class=\"colab-df-container\">\n",
       "      <div>\n",
       "<style scoped>\n",
       "    .dataframe tbody tr th:only-of-type {\n",
       "        vertical-align: middle;\n",
       "    }\n",
       "\n",
       "    .dataframe tbody tr th {\n",
       "        vertical-align: top;\n",
       "    }\n",
       "\n",
       "    .dataframe thead th {\n",
       "        text-align: right;\n",
       "    }\n",
       "</style>\n",
       "<table border=\"1\" class=\"dataframe\">\n",
       "  <thead>\n",
       "    <tr style=\"text-align: right;\">\n",
       "      <th></th>\n",
       "      <th>count</th>\n",
       "      <th>mean</th>\n",
       "      <th>std</th>\n",
       "      <th>min</th>\n",
       "      <th>25%</th>\n",
       "      <th>50%</th>\n",
       "      <th>75%</th>\n",
       "      <th>max</th>\n",
       "    </tr>\n",
       "  </thead>\n",
       "  <tbody>\n",
       "    <tr>\n",
       "      <th>building_id</th>\n",
       "      <td>20216100.0</td>\n",
       "      <td>799.278000</td>\n",
       "      <td>426.913309</td>\n",
       "      <td>0.0</td>\n",
       "      <td>393.0</td>\n",
       "      <td>895.000</td>\n",
       "      <td>1179.000</td>\n",
       "      <td>1448.0</td>\n",
       "    </tr>\n",
       "    <tr>\n",
       "      <th>meter</th>\n",
       "      <td>20216100.0</td>\n",
       "      <td>0.662441</td>\n",
       "      <td>0.930992</td>\n",
       "      <td>0.0</td>\n",
       "      <td>0.0</td>\n",
       "      <td>0.000</td>\n",
       "      <td>1.000</td>\n",
       "      <td>3.0</td>\n",
       "    </tr>\n",
       "    <tr>\n",
       "      <th>meter_reading</th>\n",
       "      <td>20216100.0</td>\n",
       "      <td>2117.121076</td>\n",
       "      <td>153235.624995</td>\n",
       "      <td>0.0</td>\n",
       "      <td>18.3</td>\n",
       "      <td>78.775</td>\n",
       "      <td>267.984</td>\n",
       "      <td>21904700.0</td>\n",
       "    </tr>\n",
       "  </tbody>\n",
       "</table>\n",
       "</div>\n",
       "      <button class=\"colab-df-convert\" onclick=\"convertToInteractive('df-c67c9ac1-489f-4b69-a0c5-328059a7ab15')\"\n",
       "              title=\"Convert this dataframe to an interactive table.\"\n",
       "              style=\"display:none;\">\n",
       "        \n",
       "  <svg xmlns=\"http://www.w3.org/2000/svg\" height=\"24px\"viewBox=\"0 0 24 24\"\n",
       "       width=\"24px\">\n",
       "    <path d=\"M0 0h24v24H0V0z\" fill=\"none\"/>\n",
       "    <path d=\"M18.56 5.44l.94 2.06.94-2.06 2.06-.94-2.06-.94-.94-2.06-.94 2.06-2.06.94zm-11 1L8.5 8.5l.94-2.06 2.06-.94-2.06-.94L8.5 2.5l-.94 2.06-2.06.94zm10 10l.94 2.06.94-2.06 2.06-.94-2.06-.94-.94-2.06-.94 2.06-2.06.94z\"/><path d=\"M17.41 7.96l-1.37-1.37c-.4-.4-.92-.59-1.43-.59-.52 0-1.04.2-1.43.59L10.3 9.45l-7.72 7.72c-.78.78-.78 2.05 0 2.83L4 21.41c.39.39.9.59 1.41.59.51 0 1.02-.2 1.41-.59l7.78-7.78 2.81-2.81c.8-.78.8-2.07 0-2.86zM5.41 20L4 18.59l7.72-7.72 1.47 1.35L5.41 20z\"/>\n",
       "  </svg>\n",
       "      </button>\n",
       "      \n",
       "  <style>\n",
       "    .colab-df-container {\n",
       "      display:flex;\n",
       "      flex-wrap:wrap;\n",
       "      gap: 12px;\n",
       "    }\n",
       "\n",
       "    .colab-df-convert {\n",
       "      background-color: #E8F0FE;\n",
       "      border: none;\n",
       "      border-radius: 50%;\n",
       "      cursor: pointer;\n",
       "      display: none;\n",
       "      fill: #1967D2;\n",
       "      height: 32px;\n",
       "      padding: 0 0 0 0;\n",
       "      width: 32px;\n",
       "    }\n",
       "\n",
       "    .colab-df-convert:hover {\n",
       "      background-color: #E2EBFA;\n",
       "      box-shadow: 0px 1px 2px rgba(60, 64, 67, 0.3), 0px 1px 3px 1px rgba(60, 64, 67, 0.15);\n",
       "      fill: #174EA6;\n",
       "    }\n",
       "\n",
       "    [theme=dark] .colab-df-convert {\n",
       "      background-color: #3B4455;\n",
       "      fill: #D2E3FC;\n",
       "    }\n",
       "\n",
       "    [theme=dark] .colab-df-convert:hover {\n",
       "      background-color: #434B5C;\n",
       "      box-shadow: 0px 1px 3px 1px rgba(0, 0, 0, 0.15);\n",
       "      filter: drop-shadow(0px 1px 2px rgba(0, 0, 0, 0.3));\n",
       "      fill: #FFFFFF;\n",
       "    }\n",
       "  </style>\n",
       "\n",
       "      <script>\n",
       "        const buttonEl =\n",
       "          document.querySelector('#df-c67c9ac1-489f-4b69-a0c5-328059a7ab15 button.colab-df-convert');\n",
       "        buttonEl.style.display =\n",
       "          google.colab.kernel.accessAllowed ? 'block' : 'none';\n",
       "\n",
       "        async function convertToInteractive(key) {\n",
       "          const element = document.querySelector('#df-c67c9ac1-489f-4b69-a0c5-328059a7ab15');\n",
       "          const dataTable =\n",
       "            await google.colab.kernel.invokeFunction('convertToInteractive',\n",
       "                                                     [key], {});\n",
       "          if (!dataTable) return;\n",
       "\n",
       "          const docLinkHtml = 'Like what you see? Visit the ' +\n",
       "            '<a target=\"_blank\" href=https://colab.research.google.com/notebooks/data_table.ipynb>data table notebook</a>'\n",
       "            + ' to learn more about interactive tables.';\n",
       "          element.innerHTML = '';\n",
       "          dataTable['output_type'] = 'display_data';\n",
       "          await google.colab.output.renderOutput(dataTable, element);\n",
       "          const docLink = document.createElement('div');\n",
       "          docLink.innerHTML = docLinkHtml;\n",
       "          element.appendChild(docLink);\n",
       "        }\n",
       "      </script>\n",
       "    </div>\n",
       "  </div>\n",
       "  "
      ],
      "text/plain": [
       "                    count         mean            std  min    25%      50%  \\\n",
       "building_id    20216100.0   799.278000     426.913309  0.0  393.0  895.000   \n",
       "meter          20216100.0     0.662441       0.930992  0.0    0.0    0.000   \n",
       "meter_reading  20216100.0  2117.121076  153235.624995  0.0   18.3   78.775   \n",
       "\n",
       "                    75%         max  \n",
       "building_id    1179.000      1448.0  \n",
       "meter             1.000         3.0  \n",
       "meter_reading   267.984  21904700.0  "
      ]
     },
     "execution_count": 43,
     "metadata": {},
     "output_type": "execute_result"
    }
   ],
   "source": [
    "# Statistika Dasar dari Data Train\n",
    "\n",
    "df_enTrain.describe().transpose()"
   ]
  },
  {
   "cell_type": "code",
   "execution_count": 44,
   "metadata": {
    "colab": {
     "base_uri": "https://localhost:8080/",
     "height": 206
    },
    "id": "-vhqL7KeTRZR",
    "outputId": "67eb6d67-015f-4e92-c7a0-53682ca22eb0"
   },
   "outputs": [
    {
     "data": {
      "text/html": [
       "\n",
       "  <div id=\"df-0cb271a7-7908-43b3-a4bb-9962923ad454\">\n",
       "    <div class=\"colab-df-container\">\n",
       "      <div>\n",
       "<style scoped>\n",
       "    .dataframe tbody tr th:only-of-type {\n",
       "        vertical-align: middle;\n",
       "    }\n",
       "\n",
       "    .dataframe tbody tr th {\n",
       "        vertical-align: top;\n",
       "    }\n",
       "\n",
       "    .dataframe thead th {\n",
       "        text-align: right;\n",
       "    }\n",
       "</style>\n",
       "<table border=\"1\" class=\"dataframe\">\n",
       "  <thead>\n",
       "    <tr style=\"text-align: right;\">\n",
       "      <th></th>\n",
       "      <th>building_id</th>\n",
       "      <th>meter</th>\n",
       "      <th>timestamp</th>\n",
       "      <th>meter_reading</th>\n",
       "    </tr>\n",
       "  </thead>\n",
       "  <tbody>\n",
       "    <tr>\n",
       "      <th>0</th>\n",
       "      <td>0</td>\n",
       "      <td>0</td>\n",
       "      <td>2016-01-01 00:00:00</td>\n",
       "      <td>0.0</td>\n",
       "    </tr>\n",
       "    <tr>\n",
       "      <th>1</th>\n",
       "      <td>1</td>\n",
       "      <td>0</td>\n",
       "      <td>2016-01-01 00:00:00</td>\n",
       "      <td>0.0</td>\n",
       "    </tr>\n",
       "    <tr>\n",
       "      <th>2</th>\n",
       "      <td>2</td>\n",
       "      <td>0</td>\n",
       "      <td>2016-01-01 00:00:00</td>\n",
       "      <td>0.0</td>\n",
       "    </tr>\n",
       "    <tr>\n",
       "      <th>3</th>\n",
       "      <td>3</td>\n",
       "      <td>0</td>\n",
       "      <td>2016-01-01 00:00:00</td>\n",
       "      <td>0.0</td>\n",
       "    </tr>\n",
       "    <tr>\n",
       "      <th>4</th>\n",
       "      <td>4</td>\n",
       "      <td>0</td>\n",
       "      <td>2016-01-01 00:00:00</td>\n",
       "      <td>0.0</td>\n",
       "    </tr>\n",
       "  </tbody>\n",
       "</table>\n",
       "</div>\n",
       "      <button class=\"colab-df-convert\" onclick=\"convertToInteractive('df-0cb271a7-7908-43b3-a4bb-9962923ad454')\"\n",
       "              title=\"Convert this dataframe to an interactive table.\"\n",
       "              style=\"display:none;\">\n",
       "        \n",
       "  <svg xmlns=\"http://www.w3.org/2000/svg\" height=\"24px\"viewBox=\"0 0 24 24\"\n",
       "       width=\"24px\">\n",
       "    <path d=\"M0 0h24v24H0V0z\" fill=\"none\"/>\n",
       "    <path d=\"M18.56 5.44l.94 2.06.94-2.06 2.06-.94-2.06-.94-.94-2.06-.94 2.06-2.06.94zm-11 1L8.5 8.5l.94-2.06 2.06-.94-2.06-.94L8.5 2.5l-.94 2.06-2.06.94zm10 10l.94 2.06.94-2.06 2.06-.94-2.06-.94-.94-2.06-.94 2.06-2.06.94z\"/><path d=\"M17.41 7.96l-1.37-1.37c-.4-.4-.92-.59-1.43-.59-.52 0-1.04.2-1.43.59L10.3 9.45l-7.72 7.72c-.78.78-.78 2.05 0 2.83L4 21.41c.39.39.9.59 1.41.59.51 0 1.02-.2 1.41-.59l7.78-7.78 2.81-2.81c.8-.78.8-2.07 0-2.86zM5.41 20L4 18.59l7.72-7.72 1.47 1.35L5.41 20z\"/>\n",
       "  </svg>\n",
       "      </button>\n",
       "      \n",
       "  <style>\n",
       "    .colab-df-container {\n",
       "      display:flex;\n",
       "      flex-wrap:wrap;\n",
       "      gap: 12px;\n",
       "    }\n",
       "\n",
       "    .colab-df-convert {\n",
       "      background-color: #E8F0FE;\n",
       "      border: none;\n",
       "      border-radius: 50%;\n",
       "      cursor: pointer;\n",
       "      display: none;\n",
       "      fill: #1967D2;\n",
       "      height: 32px;\n",
       "      padding: 0 0 0 0;\n",
       "      width: 32px;\n",
       "    }\n",
       "\n",
       "    .colab-df-convert:hover {\n",
       "      background-color: #E2EBFA;\n",
       "      box-shadow: 0px 1px 2px rgba(60, 64, 67, 0.3), 0px 1px 3px 1px rgba(60, 64, 67, 0.15);\n",
       "      fill: #174EA6;\n",
       "    }\n",
       "\n",
       "    [theme=dark] .colab-df-convert {\n",
       "      background-color: #3B4455;\n",
       "      fill: #D2E3FC;\n",
       "    }\n",
       "\n",
       "    [theme=dark] .colab-df-convert:hover {\n",
       "      background-color: #434B5C;\n",
       "      box-shadow: 0px 1px 3px 1px rgba(0, 0, 0, 0.15);\n",
       "      filter: drop-shadow(0px 1px 2px rgba(0, 0, 0, 0.3));\n",
       "      fill: #FFFFFF;\n",
       "    }\n",
       "  </style>\n",
       "\n",
       "      <script>\n",
       "        const buttonEl =\n",
       "          document.querySelector('#df-0cb271a7-7908-43b3-a4bb-9962923ad454 button.colab-df-convert');\n",
       "        buttonEl.style.display =\n",
       "          google.colab.kernel.accessAllowed ? 'block' : 'none';\n",
       "\n",
       "        async function convertToInteractive(key) {\n",
       "          const element = document.querySelector('#df-0cb271a7-7908-43b3-a4bb-9962923ad454');\n",
       "          const dataTable =\n",
       "            await google.colab.kernel.invokeFunction('convertToInteractive',\n",
       "                                                     [key], {});\n",
       "          if (!dataTable) return;\n",
       "\n",
       "          const docLinkHtml = 'Like what you see? Visit the ' +\n",
       "            '<a target=\"_blank\" href=https://colab.research.google.com/notebooks/data_table.ipynb>data table notebook</a>'\n",
       "            + ' to learn more about interactive tables.';\n",
       "          element.innerHTML = '';\n",
       "          dataTable['output_type'] = 'display_data';\n",
       "          await google.colab.output.renderOutput(dataTable, element);\n",
       "          const docLink = document.createElement('div');\n",
       "          docLink.innerHTML = docLinkHtml;\n",
       "          element.appendChild(docLink);\n",
       "        }\n",
       "      </script>\n",
       "    </div>\n",
       "  </div>\n",
       "  "
      ],
      "text/plain": [
       "   building_id  meter            timestamp  meter_reading\n",
       "0            0      0  2016-01-01 00:00:00            0.0\n",
       "1            1      0  2016-01-01 00:00:00            0.0\n",
       "2            2      0  2016-01-01 00:00:00            0.0\n",
       "3            3      0  2016-01-01 00:00:00            0.0\n",
       "4            4      0  2016-01-01 00:00:00            0.0"
      ]
     },
     "execution_count": 44,
     "metadata": {},
     "output_type": "execute_result"
    }
   ],
   "source": [
    "# Menampilkan 5 Data Awal dari Data Train\n",
    "\n",
    "df_enTrain.head()"
   ]
  },
  {
   "cell_type": "code",
   "execution_count": 45,
   "metadata": {
    "colab": {
     "base_uri": "https://localhost:8080/"
    },
    "id": "lpi2Xj90Taa6",
    "outputId": "ff4680f8-82ab-4949-c43b-8f3c23473fe9"
   },
   "outputs": [
    {
     "data": {
      "text/plain": [
       "building_id      0\n",
       "meter            0\n",
       "timestamp        0\n",
       "meter_reading    0\n",
       "dtype: int64"
      ]
     },
     "execution_count": 45,
     "metadata": {},
     "output_type": "execute_result"
    }
   ],
   "source": [
    "# Check Null Values pada Data Train\n",
    "\n",
    "df_enTrain.isnull().sum()"
   ]
  },
  {
   "cell_type": "code",
   "execution_count": 46,
   "metadata": {
    "colab": {
     "base_uri": "https://localhost:8080/"
    },
    "id": "zU67You4Tn5X",
    "outputId": "0f0a4f5d-84c6-4655-cfb0-456a06884fc9"
   },
   "outputs": [
    {
     "name": "stdout",
     "output_type": "stream",
     "text": [
      "<class 'pandas.core.frame.DataFrame'>\n",
      "RangeIndex: 139773 entries, 0 to 139772\n",
      "Data columns (total 9 columns):\n",
      " #   Column              Non-Null Count   Dtype  \n",
      "---  ------              --------------   -----  \n",
      " 0   site_id             139773 non-null  int64  \n",
      " 1   timestamp           139773 non-null  object \n",
      " 2   air_temperature     139718 non-null  float64\n",
      " 3   cloud_coverage      70600 non-null   float64\n",
      " 4   dew_temperature     139660 non-null  float64\n",
      " 5   precip_depth_1_hr   89484 non-null   float64\n",
      " 6   sea_level_pressure  129155 non-null  float64\n",
      " 7   wind_direction      133505 non-null  float64\n",
      " 8   wind_speed          139469 non-null  float64\n",
      "dtypes: float64(7), int64(1), object(1)\n",
      "memory usage: 9.6+ MB\n"
     ]
    }
   ],
   "source": [
    "# Informasi dari Data Cuaca Train (df_wtTrain)\n",
    "\n",
    "df_wtTrain.info()"
   ]
  },
  {
   "cell_type": "code",
   "execution_count": 47,
   "metadata": {
    "colab": {
     "base_uri": "https://localhost:8080/",
     "height": 300
    },
    "id": "LUOJ-0JITv2U",
    "outputId": "c27ce5a5-1d70-455d-d48c-41e03d4af7b1"
   },
   "outputs": [
    {
     "data": {
      "text/html": [
       "\n",
       "  <div id=\"df-a1867d2c-a8ea-42d5-9fe7-57a8988bb174\">\n",
       "    <div class=\"colab-df-container\">\n",
       "      <div>\n",
       "<style scoped>\n",
       "    .dataframe tbody tr th:only-of-type {\n",
       "        vertical-align: middle;\n",
       "    }\n",
       "\n",
       "    .dataframe tbody tr th {\n",
       "        vertical-align: top;\n",
       "    }\n",
       "\n",
       "    .dataframe thead th {\n",
       "        text-align: right;\n",
       "    }\n",
       "</style>\n",
       "<table border=\"1\" class=\"dataframe\">\n",
       "  <thead>\n",
       "    <tr style=\"text-align: right;\">\n",
       "      <th></th>\n",
       "      <th>count</th>\n",
       "      <th>mean</th>\n",
       "      <th>std</th>\n",
       "      <th>min</th>\n",
       "      <th>25%</th>\n",
       "      <th>50%</th>\n",
       "      <th>75%</th>\n",
       "      <th>max</th>\n",
       "    </tr>\n",
       "  </thead>\n",
       "  <tbody>\n",
       "    <tr>\n",
       "      <th>site_id</th>\n",
       "      <td>139773.0</td>\n",
       "      <td>7.478977</td>\n",
       "      <td>4.604744</td>\n",
       "      <td>0.0</td>\n",
       "      <td>3.0</td>\n",
       "      <td>7.0</td>\n",
       "      <td>11.0</td>\n",
       "      <td>15.0</td>\n",
       "    </tr>\n",
       "    <tr>\n",
       "      <th>air_temperature</th>\n",
       "      <td>139718.0</td>\n",
       "      <td>14.418106</td>\n",
       "      <td>10.626595</td>\n",
       "      <td>-28.9</td>\n",
       "      <td>7.2</td>\n",
       "      <td>15.0</td>\n",
       "      <td>22.2</td>\n",
       "      <td>47.2</td>\n",
       "    </tr>\n",
       "    <tr>\n",
       "      <th>cloud_coverage</th>\n",
       "      <td>70600.0</td>\n",
       "      <td>2.149306</td>\n",
       "      <td>2.599150</td>\n",
       "      <td>0.0</td>\n",
       "      <td>0.0</td>\n",
       "      <td>2.0</td>\n",
       "      <td>4.0</td>\n",
       "      <td>9.0</td>\n",
       "    </tr>\n",
       "    <tr>\n",
       "      <th>dew_temperature</th>\n",
       "      <td>139660.0</td>\n",
       "      <td>7.350158</td>\n",
       "      <td>9.790235</td>\n",
       "      <td>-35.0</td>\n",
       "      <td>0.6</td>\n",
       "      <td>8.3</td>\n",
       "      <td>14.4</td>\n",
       "      <td>26.1</td>\n",
       "    </tr>\n",
       "    <tr>\n",
       "      <th>precip_depth_1_hr</th>\n",
       "      <td>89484.0</td>\n",
       "      <td>0.983047</td>\n",
       "      <td>8.463678</td>\n",
       "      <td>-1.0</td>\n",
       "      <td>0.0</td>\n",
       "      <td>0.0</td>\n",
       "      <td>0.0</td>\n",
       "      <td>343.0</td>\n",
       "    </tr>\n",
       "    <tr>\n",
       "      <th>sea_level_pressure</th>\n",
       "      <td>129155.0</td>\n",
       "      <td>1016.158038</td>\n",
       "      <td>7.629684</td>\n",
       "      <td>968.2</td>\n",
       "      <td>1011.8</td>\n",
       "      <td>1016.4</td>\n",
       "      <td>1020.8</td>\n",
       "      <td>1045.5</td>\n",
       "    </tr>\n",
       "    <tr>\n",
       "      <th>wind_direction</th>\n",
       "      <td>133505.0</td>\n",
       "      <td>180.526632</td>\n",
       "      <td>111.523629</td>\n",
       "      <td>0.0</td>\n",
       "      <td>80.0</td>\n",
       "      <td>190.0</td>\n",
       "      <td>280.0</td>\n",
       "      <td>360.0</td>\n",
       "    </tr>\n",
       "    <tr>\n",
       "      <th>wind_speed</th>\n",
       "      <td>139469.0</td>\n",
       "      <td>3.560527</td>\n",
       "      <td>2.335874</td>\n",
       "      <td>0.0</td>\n",
       "      <td>2.1</td>\n",
       "      <td>3.1</td>\n",
       "      <td>5.0</td>\n",
       "      <td>19.0</td>\n",
       "    </tr>\n",
       "  </tbody>\n",
       "</table>\n",
       "</div>\n",
       "      <button class=\"colab-df-convert\" onclick=\"convertToInteractive('df-a1867d2c-a8ea-42d5-9fe7-57a8988bb174')\"\n",
       "              title=\"Convert this dataframe to an interactive table.\"\n",
       "              style=\"display:none;\">\n",
       "        \n",
       "  <svg xmlns=\"http://www.w3.org/2000/svg\" height=\"24px\"viewBox=\"0 0 24 24\"\n",
       "       width=\"24px\">\n",
       "    <path d=\"M0 0h24v24H0V0z\" fill=\"none\"/>\n",
       "    <path d=\"M18.56 5.44l.94 2.06.94-2.06 2.06-.94-2.06-.94-.94-2.06-.94 2.06-2.06.94zm-11 1L8.5 8.5l.94-2.06 2.06-.94-2.06-.94L8.5 2.5l-.94 2.06-2.06.94zm10 10l.94 2.06.94-2.06 2.06-.94-2.06-.94-.94-2.06-.94 2.06-2.06.94z\"/><path d=\"M17.41 7.96l-1.37-1.37c-.4-.4-.92-.59-1.43-.59-.52 0-1.04.2-1.43.59L10.3 9.45l-7.72 7.72c-.78.78-.78 2.05 0 2.83L4 21.41c.39.39.9.59 1.41.59.51 0 1.02-.2 1.41-.59l7.78-7.78 2.81-2.81c.8-.78.8-2.07 0-2.86zM5.41 20L4 18.59l7.72-7.72 1.47 1.35L5.41 20z\"/>\n",
       "  </svg>\n",
       "      </button>\n",
       "      \n",
       "  <style>\n",
       "    .colab-df-container {\n",
       "      display:flex;\n",
       "      flex-wrap:wrap;\n",
       "      gap: 12px;\n",
       "    }\n",
       "\n",
       "    .colab-df-convert {\n",
       "      background-color: #E8F0FE;\n",
       "      border: none;\n",
       "      border-radius: 50%;\n",
       "      cursor: pointer;\n",
       "      display: none;\n",
       "      fill: #1967D2;\n",
       "      height: 32px;\n",
       "      padding: 0 0 0 0;\n",
       "      width: 32px;\n",
       "    }\n",
       "\n",
       "    .colab-df-convert:hover {\n",
       "      background-color: #E2EBFA;\n",
       "      box-shadow: 0px 1px 2px rgba(60, 64, 67, 0.3), 0px 1px 3px 1px rgba(60, 64, 67, 0.15);\n",
       "      fill: #174EA6;\n",
       "    }\n",
       "\n",
       "    [theme=dark] .colab-df-convert {\n",
       "      background-color: #3B4455;\n",
       "      fill: #D2E3FC;\n",
       "    }\n",
       "\n",
       "    [theme=dark] .colab-df-convert:hover {\n",
       "      background-color: #434B5C;\n",
       "      box-shadow: 0px 1px 3px 1px rgba(0, 0, 0, 0.15);\n",
       "      filter: drop-shadow(0px 1px 2px rgba(0, 0, 0, 0.3));\n",
       "      fill: #FFFFFF;\n",
       "    }\n",
       "  </style>\n",
       "\n",
       "      <script>\n",
       "        const buttonEl =\n",
       "          document.querySelector('#df-a1867d2c-a8ea-42d5-9fe7-57a8988bb174 button.colab-df-convert');\n",
       "        buttonEl.style.display =\n",
       "          google.colab.kernel.accessAllowed ? 'block' : 'none';\n",
       "\n",
       "        async function convertToInteractive(key) {\n",
       "          const element = document.querySelector('#df-a1867d2c-a8ea-42d5-9fe7-57a8988bb174');\n",
       "          const dataTable =\n",
       "            await google.colab.kernel.invokeFunction('convertToInteractive',\n",
       "                                                     [key], {});\n",
       "          if (!dataTable) return;\n",
       "\n",
       "          const docLinkHtml = 'Like what you see? Visit the ' +\n",
       "            '<a target=\"_blank\" href=https://colab.research.google.com/notebooks/data_table.ipynb>data table notebook</a>'\n",
       "            + ' to learn more about interactive tables.';\n",
       "          element.innerHTML = '';\n",
       "          dataTable['output_type'] = 'display_data';\n",
       "          await google.colab.output.renderOutput(dataTable, element);\n",
       "          const docLink = document.createElement('div');\n",
       "          docLink.innerHTML = docLinkHtml;\n",
       "          element.appendChild(docLink);\n",
       "        }\n",
       "      </script>\n",
       "    </div>\n",
       "  </div>\n",
       "  "
      ],
      "text/plain": [
       "                       count         mean         std    min     25%     50%  \\\n",
       "site_id             139773.0     7.478977    4.604744    0.0     3.0     7.0   \n",
       "air_temperature     139718.0    14.418106   10.626595  -28.9     7.2    15.0   \n",
       "cloud_coverage       70600.0     2.149306    2.599150    0.0     0.0     2.0   \n",
       "dew_temperature     139660.0     7.350158    9.790235  -35.0     0.6     8.3   \n",
       "precip_depth_1_hr    89484.0     0.983047    8.463678   -1.0     0.0     0.0   \n",
       "sea_level_pressure  129155.0  1016.158038    7.629684  968.2  1011.8  1016.4   \n",
       "wind_direction      133505.0   180.526632  111.523629    0.0    80.0   190.0   \n",
       "wind_speed          139469.0     3.560527    2.335874    0.0     2.1     3.1   \n",
       "\n",
       "                       75%     max  \n",
       "site_id               11.0    15.0  \n",
       "air_temperature       22.2    47.2  \n",
       "cloud_coverage         4.0     9.0  \n",
       "dew_temperature       14.4    26.1  \n",
       "precip_depth_1_hr      0.0   343.0  \n",
       "sea_level_pressure  1020.8  1045.5  \n",
       "wind_direction       280.0   360.0  \n",
       "wind_speed             5.0    19.0  "
      ]
     },
     "execution_count": 47,
     "metadata": {},
     "output_type": "execute_result"
    }
   ],
   "source": [
    "# Statitistika Dasar dari Data Cuaca Train\n",
    "\n",
    "df_wtTrain.describe().transpose()"
   ]
  },
  {
   "cell_type": "code",
   "execution_count": 48,
   "metadata": {
    "colab": {
     "base_uri": "https://localhost:8080/",
     "height": 206
    },
    "id": "bFRIu3QDUNSY",
    "outputId": "39d734e4-66bf-47f5-936f-60b81dfcac29"
   },
   "outputs": [
    {
     "data": {
      "text/html": [
       "\n",
       "  <div id=\"df-831a98a2-8b52-4e49-9747-ee5d9fc46bac\">\n",
       "    <div class=\"colab-df-container\">\n",
       "      <div>\n",
       "<style scoped>\n",
       "    .dataframe tbody tr th:only-of-type {\n",
       "        vertical-align: middle;\n",
       "    }\n",
       "\n",
       "    .dataframe tbody tr th {\n",
       "        vertical-align: top;\n",
       "    }\n",
       "\n",
       "    .dataframe thead th {\n",
       "        text-align: right;\n",
       "    }\n",
       "</style>\n",
       "<table border=\"1\" class=\"dataframe\">\n",
       "  <thead>\n",
       "    <tr style=\"text-align: right;\">\n",
       "      <th></th>\n",
       "      <th>site_id</th>\n",
       "      <th>timestamp</th>\n",
       "      <th>air_temperature</th>\n",
       "      <th>cloud_coverage</th>\n",
       "      <th>dew_temperature</th>\n",
       "      <th>precip_depth_1_hr</th>\n",
       "      <th>sea_level_pressure</th>\n",
       "      <th>wind_direction</th>\n",
       "      <th>wind_speed</th>\n",
       "    </tr>\n",
       "  </thead>\n",
       "  <tbody>\n",
       "    <tr>\n",
       "      <th>0</th>\n",
       "      <td>0</td>\n",
       "      <td>2016-01-01 00:00:00</td>\n",
       "      <td>25.0</td>\n",
       "      <td>6.0</td>\n",
       "      <td>20.0</td>\n",
       "      <td>NaN</td>\n",
       "      <td>1019.7</td>\n",
       "      <td>0.0</td>\n",
       "      <td>0.0</td>\n",
       "    </tr>\n",
       "    <tr>\n",
       "      <th>1</th>\n",
       "      <td>0</td>\n",
       "      <td>2016-01-01 01:00:00</td>\n",
       "      <td>24.4</td>\n",
       "      <td>NaN</td>\n",
       "      <td>21.1</td>\n",
       "      <td>-1.0</td>\n",
       "      <td>1020.2</td>\n",
       "      <td>70.0</td>\n",
       "      <td>1.5</td>\n",
       "    </tr>\n",
       "    <tr>\n",
       "      <th>2</th>\n",
       "      <td>0</td>\n",
       "      <td>2016-01-01 02:00:00</td>\n",
       "      <td>22.8</td>\n",
       "      <td>2.0</td>\n",
       "      <td>21.1</td>\n",
       "      <td>0.0</td>\n",
       "      <td>1020.2</td>\n",
       "      <td>0.0</td>\n",
       "      <td>0.0</td>\n",
       "    </tr>\n",
       "    <tr>\n",
       "      <th>3</th>\n",
       "      <td>0</td>\n",
       "      <td>2016-01-01 03:00:00</td>\n",
       "      <td>21.1</td>\n",
       "      <td>2.0</td>\n",
       "      <td>20.6</td>\n",
       "      <td>0.0</td>\n",
       "      <td>1020.1</td>\n",
       "      <td>0.0</td>\n",
       "      <td>0.0</td>\n",
       "    </tr>\n",
       "    <tr>\n",
       "      <th>4</th>\n",
       "      <td>0</td>\n",
       "      <td>2016-01-01 04:00:00</td>\n",
       "      <td>20.0</td>\n",
       "      <td>2.0</td>\n",
       "      <td>20.0</td>\n",
       "      <td>-1.0</td>\n",
       "      <td>1020.0</td>\n",
       "      <td>250.0</td>\n",
       "      <td>2.6</td>\n",
       "    </tr>\n",
       "  </tbody>\n",
       "</table>\n",
       "</div>\n",
       "      <button class=\"colab-df-convert\" onclick=\"convertToInteractive('df-831a98a2-8b52-4e49-9747-ee5d9fc46bac')\"\n",
       "              title=\"Convert this dataframe to an interactive table.\"\n",
       "              style=\"display:none;\">\n",
       "        \n",
       "  <svg xmlns=\"http://www.w3.org/2000/svg\" height=\"24px\"viewBox=\"0 0 24 24\"\n",
       "       width=\"24px\">\n",
       "    <path d=\"M0 0h24v24H0V0z\" fill=\"none\"/>\n",
       "    <path d=\"M18.56 5.44l.94 2.06.94-2.06 2.06-.94-2.06-.94-.94-2.06-.94 2.06-2.06.94zm-11 1L8.5 8.5l.94-2.06 2.06-.94-2.06-.94L8.5 2.5l-.94 2.06-2.06.94zm10 10l.94 2.06.94-2.06 2.06-.94-2.06-.94-.94-2.06-.94 2.06-2.06.94z\"/><path d=\"M17.41 7.96l-1.37-1.37c-.4-.4-.92-.59-1.43-.59-.52 0-1.04.2-1.43.59L10.3 9.45l-7.72 7.72c-.78.78-.78 2.05 0 2.83L4 21.41c.39.39.9.59 1.41.59.51 0 1.02-.2 1.41-.59l7.78-7.78 2.81-2.81c.8-.78.8-2.07 0-2.86zM5.41 20L4 18.59l7.72-7.72 1.47 1.35L5.41 20z\"/>\n",
       "  </svg>\n",
       "      </button>\n",
       "      \n",
       "  <style>\n",
       "    .colab-df-container {\n",
       "      display:flex;\n",
       "      flex-wrap:wrap;\n",
       "      gap: 12px;\n",
       "    }\n",
       "\n",
       "    .colab-df-convert {\n",
       "      background-color: #E8F0FE;\n",
       "      border: none;\n",
       "      border-radius: 50%;\n",
       "      cursor: pointer;\n",
       "      display: none;\n",
       "      fill: #1967D2;\n",
       "      height: 32px;\n",
       "      padding: 0 0 0 0;\n",
       "      width: 32px;\n",
       "    }\n",
       "\n",
       "    .colab-df-convert:hover {\n",
       "      background-color: #E2EBFA;\n",
       "      box-shadow: 0px 1px 2px rgba(60, 64, 67, 0.3), 0px 1px 3px 1px rgba(60, 64, 67, 0.15);\n",
       "      fill: #174EA6;\n",
       "    }\n",
       "\n",
       "    [theme=dark] .colab-df-convert {\n",
       "      background-color: #3B4455;\n",
       "      fill: #D2E3FC;\n",
       "    }\n",
       "\n",
       "    [theme=dark] .colab-df-convert:hover {\n",
       "      background-color: #434B5C;\n",
       "      box-shadow: 0px 1px 3px 1px rgba(0, 0, 0, 0.15);\n",
       "      filter: drop-shadow(0px 1px 2px rgba(0, 0, 0, 0.3));\n",
       "      fill: #FFFFFF;\n",
       "    }\n",
       "  </style>\n",
       "\n",
       "      <script>\n",
       "        const buttonEl =\n",
       "          document.querySelector('#df-831a98a2-8b52-4e49-9747-ee5d9fc46bac button.colab-df-convert');\n",
       "        buttonEl.style.display =\n",
       "          google.colab.kernel.accessAllowed ? 'block' : 'none';\n",
       "\n",
       "        async function convertToInteractive(key) {\n",
       "          const element = document.querySelector('#df-831a98a2-8b52-4e49-9747-ee5d9fc46bac');\n",
       "          const dataTable =\n",
       "            await google.colab.kernel.invokeFunction('convertToInteractive',\n",
       "                                                     [key], {});\n",
       "          if (!dataTable) return;\n",
       "\n",
       "          const docLinkHtml = 'Like what you see? Visit the ' +\n",
       "            '<a target=\"_blank\" href=https://colab.research.google.com/notebooks/data_table.ipynb>data table notebook</a>'\n",
       "            + ' to learn more about interactive tables.';\n",
       "          element.innerHTML = '';\n",
       "          dataTable['output_type'] = 'display_data';\n",
       "          await google.colab.output.renderOutput(dataTable, element);\n",
       "          const docLink = document.createElement('div');\n",
       "          docLink.innerHTML = docLinkHtml;\n",
       "          element.appendChild(docLink);\n",
       "        }\n",
       "      </script>\n",
       "    </div>\n",
       "  </div>\n",
       "  "
      ],
      "text/plain": [
       "   site_id            timestamp  air_temperature  cloud_coverage  \\\n",
       "0        0  2016-01-01 00:00:00             25.0             6.0   \n",
       "1        0  2016-01-01 01:00:00             24.4             NaN   \n",
       "2        0  2016-01-01 02:00:00             22.8             2.0   \n",
       "3        0  2016-01-01 03:00:00             21.1             2.0   \n",
       "4        0  2016-01-01 04:00:00             20.0             2.0   \n",
       "\n",
       "   dew_temperature  precip_depth_1_hr  sea_level_pressure  wind_direction  \\\n",
       "0             20.0                NaN              1019.7             0.0   \n",
       "1             21.1               -1.0              1020.2            70.0   \n",
       "2             21.1                0.0              1020.2             0.0   \n",
       "3             20.6                0.0              1020.1             0.0   \n",
       "4             20.0               -1.0              1020.0           250.0   \n",
       "\n",
       "   wind_speed  \n",
       "0         0.0  \n",
       "1         1.5  \n",
       "2         0.0  \n",
       "3         0.0  \n",
       "4         2.6  "
      ]
     },
     "execution_count": 48,
     "metadata": {},
     "output_type": "execute_result"
    }
   ],
   "source": [
    "# Menampilkan 5 Data Awal dari Data Cuaca Train\n",
    "\n",
    "df_wtTrain.head()"
   ]
  },
  {
   "cell_type": "code",
   "execution_count": 49,
   "metadata": {
    "colab": {
     "base_uri": "https://localhost:8080/"
    },
    "id": "Mzd--J8pUZbb",
    "outputId": "056af0ef-d07c-477f-fda9-7ba685e2f382"
   },
   "outputs": [
    {
     "data": {
      "text/plain": [
       "site_id                   0\n",
       "timestamp                 0\n",
       "air_temperature          55\n",
       "cloud_coverage        69173\n",
       "dew_temperature         113\n",
       "precip_depth_1_hr     50289\n",
       "sea_level_pressure    10618\n",
       "wind_direction         6268\n",
       "wind_speed              304\n",
       "dtype: int64"
      ]
     },
     "execution_count": 49,
     "metadata": {},
     "output_type": "execute_result"
    }
   ],
   "source": [
    "# Check Null Values pada Data Cuaca Train\n",
    "\n",
    "df_wtTrain.isnull().sum()"
   ]
  },
  {
   "cell_type": "markdown",
   "metadata": {
    "id": "JWEvX5pOXMBT"
   },
   "source": [
    "**4. Membuat data lebih ringan dan  mengurangi pembacaan memory**"
   ]
  },
  {
   "cell_type": "code",
   "execution_count": 51,
   "metadata": {
    "colab": {
     "base_uri": "https://localhost:8080/"
    },
    "id": "pmnTIa9nXcpV",
    "outputId": "6e423bdc-70be-4b86-a5c1-a514d660ee43"
   },
   "outputs": [
    {
     "name": "stdout",
     "output_type": "stream",
     "text": [
      "CPU times: user 4.55 s, sys: 1.6 s, total: 6.15 s\n",
      "Wall time: 5.87 s\n"
     ]
    }
   ],
   "source": [
    "# Mengubah data menjadi format lebih ringan karena beberapa kerangka data terlalu besar dan membutuhkan waktu lama untuk dimuat\n",
    "\n",
    "%%time\n",
    "df_build.to_feather('df_build.feather')\n",
    "\n",
    "df_enTrain.to_feather('df_enTrain.feather')\n",
    "df_enTest.to_feather('df_enTest.feather')\n",
    "\n",
    "df_wtTrain.to_feather('df_wtTrain.feather')\n",
    "df_wtTest.to_feather('df_wtTest.feather')"
   ]
  },
  {
   "cell_type": "code",
   "execution_count": 52,
   "metadata": {
    "id": "8iQEgv7mXz_x"
   },
   "outputs": [],
   "source": [
    "# Fungsi ini membantu dalam mengoptimalkan memori yang digunakan oleh kerangka data dengan memodifikasi/mengubah tipe data setiap kolom.\n",
    "\n",
    "def reduce_mem_usage(df, df_name):\n",
    "\n",
    "    start_mem = df.memory_usage().sum() / 1024**2\n",
    "    \n",
    "    for col in df.columns:\n",
    "\n",
    "        col_type = df[col].dtype\n",
    "\n",
    "        if col_type != object:\n",
    "            c_min = df[col].min()\n",
    "            c_max = df[col].max()\n",
    "            if str(col_type)[:3] == 'int':\n",
    "                if c_min > np.iinfo(np.int8).min and c_max < np.iinfo(np.int8).max:\n",
    "                    df[col] = df[col].astype(np.int8)\n",
    "                elif c_min > np.iinfo(np.int16).min and c_max < np.iinfo(np.int16).max:\n",
    "                    df[col] = df[col].astype(np.int16)\n",
    "                elif c_min > np.iinfo(np.int32).min and c_max < np.iinfo(np.int32).max:\n",
    "                    df[col] = df[col].astype(np.int32)\n",
    "                elif c_min > np.iinfo(np.int64).min and c_max < np.iinfo(np.int64).max:\n",
    "                    df[col] = df[col].astype(np.int64)  \n",
    "            else:\n",
    "                if c_min > np.finfo(np.float16).min and c_max < np.finfo(np.float16).max:\n",
    "                    df[col] = df[col].astype(np.float16)\n",
    "                elif c_min > np.finfo(np.float32).min and c_max < np.finfo(np.float32).max:\n",
    "                    df[col] = df[col].astype(np.float32)\n",
    "                else:\n",
    "                    df[col] = df[col].astype(np.float64)\n",
    "        else:\n",
    "            df[col] = df[col].astype('category')\n",
    "\n",
    "    end_mem = df.memory_usage().sum() / 1024**2\n",
    "\n",
    "    print('Memory usage of {} is reduced by {:.2f} %. Usage dropped from {:.2f} MB to {:.2f} MB.'.format(df_name, (100 * (start_mem - end_mem) / start_mem), start_mem, end_mem))\n",
    "    \n",
    "    return df"
   ]
  },
  {
   "cell_type": "code",
   "execution_count": 53,
   "metadata": {
    "colab": {
     "base_uri": "https://localhost:8080/"
    },
    "id": "qDnGb6JhX7Sq",
    "outputId": "3c7a889b-cb5a-4427-e28a-4bcf0eeea165"
   },
   "outputs": [
    {
     "name": "stdout",
     "output_type": "stream",
     "text": [
      "Memory usage of Dataframe Building_Metadata is reduced by 73.88 %. Usage dropped from 0.07 MB to 0.02 MB.\n",
      "Memory usage of Dataframe Train is reduced by 71.82 %. Usage dropped from 616.95 MB to 173.84 MB.\n",
      "Memory usage of Dataframe Test is reduced by 71.82 %. Usage dropped from 1272.51 MB to 358.53 MB.\n",
      "Memory usage of Dataframe Weather Train is reduced by 73.06 %. Usage dropped from 9.60 MB to 2.59 MB.\n",
      "Memory usage of Dataframe Weather Test is reduced by 73.04 %. Usage dropped from 19.04 MB to 5.13 MB.\n"
     ]
    }
   ],
   "source": [
    "# Hasil setelah data di reduce\n",
    "\n",
    "df_build = reduce_mem_usage(df_build, 'Dataframe Building_Metadata')\n",
    "\n",
    "df_enTrain = reduce_mem_usage(df_enTrain, 'Dataframe Train')\n",
    "df_enTest = reduce_mem_usage(df_enTest, 'Dataframe Test')\n",
    "\n",
    "df_wtTrain = reduce_mem_usage(df_wtTrain, 'Dataframe Weather Train')\n",
    "df_wtTest = reduce_mem_usage(df_wtTest, 'Dataframe Weather Test')"
   ]
  },
  {
   "cell_type": "markdown",
   "metadata": {
    "id": "wQMFUATqZvcg"
   },
   "source": [
    "**Menggabungkan Data**"
   ]
  },
  {
   "cell_type": "code",
   "execution_count": 54,
   "metadata": {
    "id": "YI5HTA_UZ78j"
   },
   "outputs": [],
   "source": [
    "#1. Menggabungkan Data Train\n",
    "\n",
    "df_all_Train = df_enTrain.merge(df_build, on='building_id', how='left')\n",
    "df_all_Train = df_all_Train.merge(df_wtTrain, on=['site_id', 'timestamp'], how='left')\n",
    "\n",
    "#2. Menggabungkan Data Test\n",
    "\n",
    "df_all_Test = df_enTest.merge(df_build, on='building_id', how='left')\n",
    "df_all_Test = df_all_Test.merge(df_wtTest, on=['site_id', 'timestamp'], how='left')"
   ]
  },
  {
   "cell_type": "code",
   "execution_count": 55,
   "metadata": {
    "colab": {
     "base_uri": "https://localhost:8080/",
     "height": 551
    },
    "id": "N89QgWX1b2wa",
    "outputId": "c81430ee-582a-4c01-a03b-edd4c1b2c147"
   },
   "outputs": [
    {
     "data": {
      "text/html": [
       "\n",
       "  <div id=\"df-8761394d-4eed-416b-a5e3-af06a7d05884\">\n",
       "    <div class=\"colab-df-container\">\n",
       "      <div>\n",
       "<style scoped>\n",
       "    .dataframe tbody tr th:only-of-type {\n",
       "        vertical-align: middle;\n",
       "    }\n",
       "\n",
       "    .dataframe tbody tr th {\n",
       "        vertical-align: top;\n",
       "    }\n",
       "\n",
       "    .dataframe thead th {\n",
       "        text-align: right;\n",
       "    }\n",
       "</style>\n",
       "<table border=\"1\" class=\"dataframe\">\n",
       "  <thead>\n",
       "    <tr style=\"text-align: right;\">\n",
       "      <th></th>\n",
       "      <th>0</th>\n",
       "      <th>1</th>\n",
       "      <th>2</th>\n",
       "      <th>3</th>\n",
       "      <th>4</th>\n",
       "    </tr>\n",
       "  </thead>\n",
       "  <tbody>\n",
       "    <tr>\n",
       "      <th>building_id</th>\n",
       "      <td>0</td>\n",
       "      <td>1</td>\n",
       "      <td>2</td>\n",
       "      <td>3</td>\n",
       "      <td>4</td>\n",
       "    </tr>\n",
       "    <tr>\n",
       "      <th>meter</th>\n",
       "      <td>0</td>\n",
       "      <td>0</td>\n",
       "      <td>0</td>\n",
       "      <td>0</td>\n",
       "      <td>0</td>\n",
       "    </tr>\n",
       "    <tr>\n",
       "      <th>timestamp</th>\n",
       "      <td>2016-01-01 00:00:00</td>\n",
       "      <td>2016-01-01 00:00:00</td>\n",
       "      <td>2016-01-01 00:00:00</td>\n",
       "      <td>2016-01-01 00:00:00</td>\n",
       "      <td>2016-01-01 00:00:00</td>\n",
       "    </tr>\n",
       "    <tr>\n",
       "      <th>meter_reading</th>\n",
       "      <td>0.0</td>\n",
       "      <td>0.0</td>\n",
       "      <td>0.0</td>\n",
       "      <td>0.0</td>\n",
       "      <td>0.0</td>\n",
       "    </tr>\n",
       "    <tr>\n",
       "      <th>site_id</th>\n",
       "      <td>0</td>\n",
       "      <td>0</td>\n",
       "      <td>0</td>\n",
       "      <td>0</td>\n",
       "      <td>0</td>\n",
       "    </tr>\n",
       "    <tr>\n",
       "      <th>primary_use</th>\n",
       "      <td>Education</td>\n",
       "      <td>Education</td>\n",
       "      <td>Education</td>\n",
       "      <td>Education</td>\n",
       "      <td>Education</td>\n",
       "    </tr>\n",
       "    <tr>\n",
       "      <th>square_feet</th>\n",
       "      <td>7432</td>\n",
       "      <td>2720</td>\n",
       "      <td>5376</td>\n",
       "      <td>23685</td>\n",
       "      <td>116607</td>\n",
       "    </tr>\n",
       "    <tr>\n",
       "      <th>year_built</th>\n",
       "      <td>2008.0</td>\n",
       "      <td>2004.0</td>\n",
       "      <td>1991.0</td>\n",
       "      <td>2002.0</td>\n",
       "      <td>1975.0</td>\n",
       "    </tr>\n",
       "    <tr>\n",
       "      <th>floor_count</th>\n",
       "      <td>NaN</td>\n",
       "      <td>NaN</td>\n",
       "      <td>NaN</td>\n",
       "      <td>NaN</td>\n",
       "      <td>NaN</td>\n",
       "    </tr>\n",
       "    <tr>\n",
       "      <th>air_temperature</th>\n",
       "      <td>25.0</td>\n",
       "      <td>25.0</td>\n",
       "      <td>25.0</td>\n",
       "      <td>25.0</td>\n",
       "      <td>25.0</td>\n",
       "    </tr>\n",
       "    <tr>\n",
       "      <th>cloud_coverage</th>\n",
       "      <td>6.0</td>\n",
       "      <td>6.0</td>\n",
       "      <td>6.0</td>\n",
       "      <td>6.0</td>\n",
       "      <td>6.0</td>\n",
       "    </tr>\n",
       "    <tr>\n",
       "      <th>dew_temperature</th>\n",
       "      <td>20.0</td>\n",
       "      <td>20.0</td>\n",
       "      <td>20.0</td>\n",
       "      <td>20.0</td>\n",
       "      <td>20.0</td>\n",
       "    </tr>\n",
       "    <tr>\n",
       "      <th>precip_depth_1_hr</th>\n",
       "      <td>NaN</td>\n",
       "      <td>NaN</td>\n",
       "      <td>NaN</td>\n",
       "      <td>NaN</td>\n",
       "      <td>NaN</td>\n",
       "    </tr>\n",
       "    <tr>\n",
       "      <th>sea_level_pressure</th>\n",
       "      <td>1019.5</td>\n",
       "      <td>1019.5</td>\n",
       "      <td>1019.5</td>\n",
       "      <td>1019.5</td>\n",
       "      <td>1019.5</td>\n",
       "    </tr>\n",
       "    <tr>\n",
       "      <th>wind_direction</th>\n",
       "      <td>0.0</td>\n",
       "      <td>0.0</td>\n",
       "      <td>0.0</td>\n",
       "      <td>0.0</td>\n",
       "      <td>0.0</td>\n",
       "    </tr>\n",
       "    <tr>\n",
       "      <th>wind_speed</th>\n",
       "      <td>0.0</td>\n",
       "      <td>0.0</td>\n",
       "      <td>0.0</td>\n",
       "      <td>0.0</td>\n",
       "      <td>0.0</td>\n",
       "    </tr>\n",
       "  </tbody>\n",
       "</table>\n",
       "</div>\n",
       "      <button class=\"colab-df-convert\" onclick=\"convertToInteractive('df-8761394d-4eed-416b-a5e3-af06a7d05884')\"\n",
       "              title=\"Convert this dataframe to an interactive table.\"\n",
       "              style=\"display:none;\">\n",
       "        \n",
       "  <svg xmlns=\"http://www.w3.org/2000/svg\" height=\"24px\"viewBox=\"0 0 24 24\"\n",
       "       width=\"24px\">\n",
       "    <path d=\"M0 0h24v24H0V0z\" fill=\"none\"/>\n",
       "    <path d=\"M18.56 5.44l.94 2.06.94-2.06 2.06-.94-2.06-.94-.94-2.06-.94 2.06-2.06.94zm-11 1L8.5 8.5l.94-2.06 2.06-.94-2.06-.94L8.5 2.5l-.94 2.06-2.06.94zm10 10l.94 2.06.94-2.06 2.06-.94-2.06-.94-.94-2.06-.94 2.06-2.06.94z\"/><path d=\"M17.41 7.96l-1.37-1.37c-.4-.4-.92-.59-1.43-.59-.52 0-1.04.2-1.43.59L10.3 9.45l-7.72 7.72c-.78.78-.78 2.05 0 2.83L4 21.41c.39.39.9.59 1.41.59.51 0 1.02-.2 1.41-.59l7.78-7.78 2.81-2.81c.8-.78.8-2.07 0-2.86zM5.41 20L4 18.59l7.72-7.72 1.47 1.35L5.41 20z\"/>\n",
       "  </svg>\n",
       "      </button>\n",
       "      \n",
       "  <style>\n",
       "    .colab-df-container {\n",
       "      display:flex;\n",
       "      flex-wrap:wrap;\n",
       "      gap: 12px;\n",
       "    }\n",
       "\n",
       "    .colab-df-convert {\n",
       "      background-color: #E8F0FE;\n",
       "      border: none;\n",
       "      border-radius: 50%;\n",
       "      cursor: pointer;\n",
       "      display: none;\n",
       "      fill: #1967D2;\n",
       "      height: 32px;\n",
       "      padding: 0 0 0 0;\n",
       "      width: 32px;\n",
       "    }\n",
       "\n",
       "    .colab-df-convert:hover {\n",
       "      background-color: #E2EBFA;\n",
       "      box-shadow: 0px 1px 2px rgba(60, 64, 67, 0.3), 0px 1px 3px 1px rgba(60, 64, 67, 0.15);\n",
       "      fill: #174EA6;\n",
       "    }\n",
       "\n",
       "    [theme=dark] .colab-df-convert {\n",
       "      background-color: #3B4455;\n",
       "      fill: #D2E3FC;\n",
       "    }\n",
       "\n",
       "    [theme=dark] .colab-df-convert:hover {\n",
       "      background-color: #434B5C;\n",
       "      box-shadow: 0px 1px 3px 1px rgba(0, 0, 0, 0.15);\n",
       "      filter: drop-shadow(0px 1px 2px rgba(0, 0, 0, 0.3));\n",
       "      fill: #FFFFFF;\n",
       "    }\n",
       "  </style>\n",
       "\n",
       "      <script>\n",
       "        const buttonEl =\n",
       "          document.querySelector('#df-8761394d-4eed-416b-a5e3-af06a7d05884 button.colab-df-convert');\n",
       "        buttonEl.style.display =\n",
       "          google.colab.kernel.accessAllowed ? 'block' : 'none';\n",
       "\n",
       "        async function convertToInteractive(key) {\n",
       "          const element = document.querySelector('#df-8761394d-4eed-416b-a5e3-af06a7d05884');\n",
       "          const dataTable =\n",
       "            await google.colab.kernel.invokeFunction('convertToInteractive',\n",
       "                                                     [key], {});\n",
       "          if (!dataTable) return;\n",
       "\n",
       "          const docLinkHtml = 'Like what you see? Visit the ' +\n",
       "            '<a target=\"_blank\" href=https://colab.research.google.com/notebooks/data_table.ipynb>data table notebook</a>'\n",
       "            + ' to learn more about interactive tables.';\n",
       "          element.innerHTML = '';\n",
       "          dataTable['output_type'] = 'display_data';\n",
       "          await google.colab.output.renderOutput(dataTable, element);\n",
       "          const docLink = document.createElement('div');\n",
       "          docLink.innerHTML = docLinkHtml;\n",
       "          element.appendChild(docLink);\n",
       "        }\n",
       "      </script>\n",
       "    </div>\n",
       "  </div>\n",
       "  "
      ],
      "text/plain": [
       "                                      0                    1  \\\n",
       "building_id                           0                    1   \n",
       "meter                                 0                    0   \n",
       "timestamp           2016-01-01 00:00:00  2016-01-01 00:00:00   \n",
       "meter_reading                       0.0                  0.0   \n",
       "site_id                               0                    0   \n",
       "primary_use                   Education            Education   \n",
       "square_feet                        7432                 2720   \n",
       "year_built                       2008.0               2004.0   \n",
       "floor_count                         NaN                  NaN   \n",
       "air_temperature                    25.0                 25.0   \n",
       "cloud_coverage                      6.0                  6.0   \n",
       "dew_temperature                    20.0                 20.0   \n",
       "precip_depth_1_hr                   NaN                  NaN   \n",
       "sea_level_pressure               1019.5               1019.5   \n",
       "wind_direction                      0.0                  0.0   \n",
       "wind_speed                          0.0                  0.0   \n",
       "\n",
       "                                      2                    3  \\\n",
       "building_id                           2                    3   \n",
       "meter                                 0                    0   \n",
       "timestamp           2016-01-01 00:00:00  2016-01-01 00:00:00   \n",
       "meter_reading                       0.0                  0.0   \n",
       "site_id                               0                    0   \n",
       "primary_use                   Education            Education   \n",
       "square_feet                        5376                23685   \n",
       "year_built                       1991.0               2002.0   \n",
       "floor_count                         NaN                  NaN   \n",
       "air_temperature                    25.0                 25.0   \n",
       "cloud_coverage                      6.0                  6.0   \n",
       "dew_temperature                    20.0                 20.0   \n",
       "precip_depth_1_hr                   NaN                  NaN   \n",
       "sea_level_pressure               1019.5               1019.5   \n",
       "wind_direction                      0.0                  0.0   \n",
       "wind_speed                          0.0                  0.0   \n",
       "\n",
       "                                      4  \n",
       "building_id                           4  \n",
       "meter                                 0  \n",
       "timestamp           2016-01-01 00:00:00  \n",
       "meter_reading                       0.0  \n",
       "site_id                               0  \n",
       "primary_use                   Education  \n",
       "square_feet                      116607  \n",
       "year_built                       1975.0  \n",
       "floor_count                         NaN  \n",
       "air_temperature                    25.0  \n",
       "cloud_coverage                      6.0  \n",
       "dew_temperature                    20.0  \n",
       "precip_depth_1_hr                   NaN  \n",
       "sea_level_pressure               1019.5  \n",
       "wind_direction                      0.0  \n",
       "wind_speed                          0.0  "
      ]
     },
     "execution_count": 55,
     "metadata": {},
     "output_type": "execute_result"
    }
   ],
   "source": [
    "# Melihat tabel dari dataframe baru\n",
    "# Tabel dari data All_Train\n",
    "\n",
    "df_all_Train.head().transpose()"
   ]
  },
  {
   "cell_type": "code",
   "execution_count": 56,
   "metadata": {
    "colab": {
     "base_uri": "https://localhost:8080/"
    },
    "id": "dAXUYw3OcgCr",
    "outputId": "54078f6f-24b4-43a6-d875-6469ef6a6f3c"
   },
   "outputs": [
    {
     "data": {
      "text/plain": [
       "(20216100, 16)"
      ]
     },
     "execution_count": 56,
     "metadata": {},
     "output_type": "execute_result"
    }
   ],
   "source": [
    "# Bentuk gabungan dari data ALL_Train\n",
    "\n",
    "df_all_Train.shape"
   ]
  },
  {
   "cell_type": "code",
   "execution_count": 57,
   "metadata": {
    "colab": {
     "base_uri": "https://localhost:8080/"
    },
    "id": "X76gjhE7c2ry",
    "outputId": "5cad07f3-fcfd-4ebe-fcbf-32264af60b67"
   },
   "outputs": [
    {
     "data": {
      "text/plain": [
       "building_id                  0\n",
       "meter                        0\n",
       "timestamp                    0\n",
       "meter_reading                0\n",
       "site_id                      0\n",
       "primary_use                  0\n",
       "square_feet                  0\n",
       "year_built            12127645\n",
       "floor_count           16709167\n",
       "air_temperature          96658\n",
       "cloud_coverage         8825365\n",
       "dew_temperature         100140\n",
       "precip_depth_1_hr      3749023\n",
       "sea_level_pressure     1231669\n",
       "wind_direction         1449048\n",
       "wind_speed              143676\n",
       "dtype: int64"
      ]
     },
     "execution_count": 57,
     "metadata": {},
     "output_type": "execute_result"
    }
   ],
   "source": [
    "# Check Null Values pada Data Train Gabungan\n",
    "\n",
    "df_all_Train.isnull().sum()"
   ]
  },
  {
   "cell_type": "code",
   "execution_count": 58,
   "metadata": {
    "colab": {
     "base_uri": "https://localhost:8080/",
     "height": 551
    },
    "id": "B7cbcIQXdLrl",
    "outputId": "97724ce3-3436-47b2-f844-ee7b8764f971"
   },
   "outputs": [
    {
     "data": {
      "text/html": [
       "\n",
       "  <div id=\"df-52ff8b85-0d02-4047-8b6b-9c9d388285ea\">\n",
       "    <div class=\"colab-df-container\">\n",
       "      <div>\n",
       "<style scoped>\n",
       "    .dataframe tbody tr th:only-of-type {\n",
       "        vertical-align: middle;\n",
       "    }\n",
       "\n",
       "    .dataframe tbody tr th {\n",
       "        vertical-align: top;\n",
       "    }\n",
       "\n",
       "    .dataframe thead th {\n",
       "        text-align: right;\n",
       "    }\n",
       "</style>\n",
       "<table border=\"1\" class=\"dataframe\">\n",
       "  <thead>\n",
       "    <tr style=\"text-align: right;\">\n",
       "      <th></th>\n",
       "      <th>0</th>\n",
       "      <th>1</th>\n",
       "      <th>2</th>\n",
       "      <th>3</th>\n",
       "      <th>4</th>\n",
       "    </tr>\n",
       "  </thead>\n",
       "  <tbody>\n",
       "    <tr>\n",
       "      <th>row_id</th>\n",
       "      <td>0</td>\n",
       "      <td>1</td>\n",
       "      <td>2</td>\n",
       "      <td>3</td>\n",
       "      <td>4</td>\n",
       "    </tr>\n",
       "    <tr>\n",
       "      <th>building_id</th>\n",
       "      <td>0</td>\n",
       "      <td>1</td>\n",
       "      <td>2</td>\n",
       "      <td>3</td>\n",
       "      <td>4</td>\n",
       "    </tr>\n",
       "    <tr>\n",
       "      <th>meter</th>\n",
       "      <td>0</td>\n",
       "      <td>0</td>\n",
       "      <td>0</td>\n",
       "      <td>0</td>\n",
       "      <td>0</td>\n",
       "    </tr>\n",
       "    <tr>\n",
       "      <th>timestamp</th>\n",
       "      <td>2017-01-01 00:00:00</td>\n",
       "      <td>2017-01-01 00:00:00</td>\n",
       "      <td>2017-01-01 00:00:00</td>\n",
       "      <td>2017-01-01 00:00:00</td>\n",
       "      <td>2017-01-01 00:00:00</td>\n",
       "    </tr>\n",
       "    <tr>\n",
       "      <th>site_id</th>\n",
       "      <td>0</td>\n",
       "      <td>0</td>\n",
       "      <td>0</td>\n",
       "      <td>0</td>\n",
       "      <td>0</td>\n",
       "    </tr>\n",
       "    <tr>\n",
       "      <th>primary_use</th>\n",
       "      <td>Education</td>\n",
       "      <td>Education</td>\n",
       "      <td>Education</td>\n",
       "      <td>Education</td>\n",
       "      <td>Education</td>\n",
       "    </tr>\n",
       "    <tr>\n",
       "      <th>square_feet</th>\n",
       "      <td>7432</td>\n",
       "      <td>2720</td>\n",
       "      <td>5376</td>\n",
       "      <td>23685</td>\n",
       "      <td>116607</td>\n",
       "    </tr>\n",
       "    <tr>\n",
       "      <th>year_built</th>\n",
       "      <td>2008.0</td>\n",
       "      <td>2004.0</td>\n",
       "      <td>1991.0</td>\n",
       "      <td>2002.0</td>\n",
       "      <td>1975.0</td>\n",
       "    </tr>\n",
       "    <tr>\n",
       "      <th>floor_count</th>\n",
       "      <td>NaN</td>\n",
       "      <td>NaN</td>\n",
       "      <td>NaN</td>\n",
       "      <td>NaN</td>\n",
       "      <td>NaN</td>\n",
       "    </tr>\n",
       "    <tr>\n",
       "      <th>air_temperature</th>\n",
       "      <td>17.796875</td>\n",
       "      <td>17.796875</td>\n",
       "      <td>17.796875</td>\n",
       "      <td>17.796875</td>\n",
       "      <td>17.796875</td>\n",
       "    </tr>\n",
       "    <tr>\n",
       "      <th>cloud_coverage</th>\n",
       "      <td>4.0</td>\n",
       "      <td>4.0</td>\n",
       "      <td>4.0</td>\n",
       "      <td>4.0</td>\n",
       "      <td>4.0</td>\n",
       "    </tr>\n",
       "    <tr>\n",
       "      <th>dew_temperature</th>\n",
       "      <td>11.703125</td>\n",
       "      <td>11.703125</td>\n",
       "      <td>11.703125</td>\n",
       "      <td>11.703125</td>\n",
       "      <td>11.703125</td>\n",
       "    </tr>\n",
       "    <tr>\n",
       "      <th>precip_depth_1_hr</th>\n",
       "      <td>NaN</td>\n",
       "      <td>NaN</td>\n",
       "      <td>NaN</td>\n",
       "      <td>NaN</td>\n",
       "      <td>NaN</td>\n",
       "    </tr>\n",
       "    <tr>\n",
       "      <th>sea_level_pressure</th>\n",
       "      <td>1021.5</td>\n",
       "      <td>1021.5</td>\n",
       "      <td>1021.5</td>\n",
       "      <td>1021.5</td>\n",
       "      <td>1021.5</td>\n",
       "    </tr>\n",
       "    <tr>\n",
       "      <th>wind_direction</th>\n",
       "      <td>100.0</td>\n",
       "      <td>100.0</td>\n",
       "      <td>100.0</td>\n",
       "      <td>100.0</td>\n",
       "      <td>100.0</td>\n",
       "    </tr>\n",
       "    <tr>\n",
       "      <th>wind_speed</th>\n",
       "      <td>3.599609</td>\n",
       "      <td>3.599609</td>\n",
       "      <td>3.599609</td>\n",
       "      <td>3.599609</td>\n",
       "      <td>3.599609</td>\n",
       "    </tr>\n",
       "  </tbody>\n",
       "</table>\n",
       "</div>\n",
       "      <button class=\"colab-df-convert\" onclick=\"convertToInteractive('df-52ff8b85-0d02-4047-8b6b-9c9d388285ea')\"\n",
       "              title=\"Convert this dataframe to an interactive table.\"\n",
       "              style=\"display:none;\">\n",
       "        \n",
       "  <svg xmlns=\"http://www.w3.org/2000/svg\" height=\"24px\"viewBox=\"0 0 24 24\"\n",
       "       width=\"24px\">\n",
       "    <path d=\"M0 0h24v24H0V0z\" fill=\"none\"/>\n",
       "    <path d=\"M18.56 5.44l.94 2.06.94-2.06 2.06-.94-2.06-.94-.94-2.06-.94 2.06-2.06.94zm-11 1L8.5 8.5l.94-2.06 2.06-.94-2.06-.94L8.5 2.5l-.94 2.06-2.06.94zm10 10l.94 2.06.94-2.06 2.06-.94-2.06-.94-.94-2.06-.94 2.06-2.06.94z\"/><path d=\"M17.41 7.96l-1.37-1.37c-.4-.4-.92-.59-1.43-.59-.52 0-1.04.2-1.43.59L10.3 9.45l-7.72 7.72c-.78.78-.78 2.05 0 2.83L4 21.41c.39.39.9.59 1.41.59.51 0 1.02-.2 1.41-.59l7.78-7.78 2.81-2.81c.8-.78.8-2.07 0-2.86zM5.41 20L4 18.59l7.72-7.72 1.47 1.35L5.41 20z\"/>\n",
       "  </svg>\n",
       "      </button>\n",
       "      \n",
       "  <style>\n",
       "    .colab-df-container {\n",
       "      display:flex;\n",
       "      flex-wrap:wrap;\n",
       "      gap: 12px;\n",
       "    }\n",
       "\n",
       "    .colab-df-convert {\n",
       "      background-color: #E8F0FE;\n",
       "      border: none;\n",
       "      border-radius: 50%;\n",
       "      cursor: pointer;\n",
       "      display: none;\n",
       "      fill: #1967D2;\n",
       "      height: 32px;\n",
       "      padding: 0 0 0 0;\n",
       "      width: 32px;\n",
       "    }\n",
       "\n",
       "    .colab-df-convert:hover {\n",
       "      background-color: #E2EBFA;\n",
       "      box-shadow: 0px 1px 2px rgba(60, 64, 67, 0.3), 0px 1px 3px 1px rgba(60, 64, 67, 0.15);\n",
       "      fill: #174EA6;\n",
       "    }\n",
       "\n",
       "    [theme=dark] .colab-df-convert {\n",
       "      background-color: #3B4455;\n",
       "      fill: #D2E3FC;\n",
       "    }\n",
       "\n",
       "    [theme=dark] .colab-df-convert:hover {\n",
       "      background-color: #434B5C;\n",
       "      box-shadow: 0px 1px 3px 1px rgba(0, 0, 0, 0.15);\n",
       "      filter: drop-shadow(0px 1px 2px rgba(0, 0, 0, 0.3));\n",
       "      fill: #FFFFFF;\n",
       "    }\n",
       "  </style>\n",
       "\n",
       "      <script>\n",
       "        const buttonEl =\n",
       "          document.querySelector('#df-52ff8b85-0d02-4047-8b6b-9c9d388285ea button.colab-df-convert');\n",
       "        buttonEl.style.display =\n",
       "          google.colab.kernel.accessAllowed ? 'block' : 'none';\n",
       "\n",
       "        async function convertToInteractive(key) {\n",
       "          const element = document.querySelector('#df-52ff8b85-0d02-4047-8b6b-9c9d388285ea');\n",
       "          const dataTable =\n",
       "            await google.colab.kernel.invokeFunction('convertToInteractive',\n",
       "                                                     [key], {});\n",
       "          if (!dataTable) return;\n",
       "\n",
       "          const docLinkHtml = 'Like what you see? Visit the ' +\n",
       "            '<a target=\"_blank\" href=https://colab.research.google.com/notebooks/data_table.ipynb>data table notebook</a>'\n",
       "            + ' to learn more about interactive tables.';\n",
       "          element.innerHTML = '';\n",
       "          dataTable['output_type'] = 'display_data';\n",
       "          await google.colab.output.renderOutput(dataTable, element);\n",
       "          const docLink = document.createElement('div');\n",
       "          docLink.innerHTML = docLinkHtml;\n",
       "          element.appendChild(docLink);\n",
       "        }\n",
       "      </script>\n",
       "    </div>\n",
       "  </div>\n",
       "  "
      ],
      "text/plain": [
       "                                      0                    1  \\\n",
       "row_id                                0                    1   \n",
       "building_id                           0                    1   \n",
       "meter                                 0                    0   \n",
       "timestamp           2017-01-01 00:00:00  2017-01-01 00:00:00   \n",
       "site_id                               0                    0   \n",
       "primary_use                   Education            Education   \n",
       "square_feet                        7432                 2720   \n",
       "year_built                       2008.0               2004.0   \n",
       "floor_count                         NaN                  NaN   \n",
       "air_temperature               17.796875            17.796875   \n",
       "cloud_coverage                      4.0                  4.0   \n",
       "dew_temperature               11.703125            11.703125   \n",
       "precip_depth_1_hr                   NaN                  NaN   \n",
       "sea_level_pressure               1021.5               1021.5   \n",
       "wind_direction                    100.0                100.0   \n",
       "wind_speed                     3.599609             3.599609   \n",
       "\n",
       "                                      2                    3  \\\n",
       "row_id                                2                    3   \n",
       "building_id                           2                    3   \n",
       "meter                                 0                    0   \n",
       "timestamp           2017-01-01 00:00:00  2017-01-01 00:00:00   \n",
       "site_id                               0                    0   \n",
       "primary_use                   Education            Education   \n",
       "square_feet                        5376                23685   \n",
       "year_built                       1991.0               2002.0   \n",
       "floor_count                         NaN                  NaN   \n",
       "air_temperature               17.796875            17.796875   \n",
       "cloud_coverage                      4.0                  4.0   \n",
       "dew_temperature               11.703125            11.703125   \n",
       "precip_depth_1_hr                   NaN                  NaN   \n",
       "sea_level_pressure               1021.5               1021.5   \n",
       "wind_direction                    100.0                100.0   \n",
       "wind_speed                     3.599609             3.599609   \n",
       "\n",
       "                                      4  \n",
       "row_id                                4  \n",
       "building_id                           4  \n",
       "meter                                 0  \n",
       "timestamp           2017-01-01 00:00:00  \n",
       "site_id                               0  \n",
       "primary_use                   Education  \n",
       "square_feet                      116607  \n",
       "year_built                       1975.0  \n",
       "floor_count                         NaN  \n",
       "air_temperature               17.796875  \n",
       "cloud_coverage                      4.0  \n",
       "dew_temperature               11.703125  \n",
       "precip_depth_1_hr                   NaN  \n",
       "sea_level_pressure               1021.5  \n",
       "wind_direction                    100.0  \n",
       "wind_speed                     3.599609  "
      ]
     },
     "execution_count": 58,
     "metadata": {},
     "output_type": "execute_result"
    }
   ],
   "source": [
    "# Melihat tabel dari dataframe baru\n",
    "# Tabel dari data All_Test\n",
    "\n",
    "df_all_Test.head().transpose()"
   ]
  },
  {
   "cell_type": "code",
   "execution_count": 59,
   "metadata": {
    "colab": {
     "base_uri": "https://localhost:8080/"
    },
    "id": "Ogi75A4vdXf3",
    "outputId": "03d72bfc-ab91-48ca-c22b-556a50521173"
   },
   "outputs": [
    {
     "data": {
      "text/plain": [
       "(41697600, 16)"
      ]
     },
     "execution_count": 59,
     "metadata": {},
     "output_type": "execute_result"
    }
   ],
   "source": [
    "# Bentuk gabungan dari data ALL_Test\n",
    "\n",
    "df_all_Test.shape"
   ]
  },
  {
   "cell_type": "code",
   "execution_count": 60,
   "metadata": {
    "colab": {
     "base_uri": "https://localhost:8080/"
    },
    "id": "hdSqZjOtdeNo",
    "outputId": "6d425d4c-5d6e-486f-abfa-c01469d0917c"
   },
   "outputs": [
    {
     "data": {
      "text/plain": [
       "row_id                       0\n",
       "building_id                  0\n",
       "meter                        0\n",
       "timestamp                    0\n",
       "site_id                      0\n",
       "primary_use                  0\n",
       "square_feet                  0\n",
       "year_built            24598080\n",
       "floor_count           34444320\n",
       "air_temperature         221901\n",
       "cloud_coverage        19542180\n",
       "dew_temperature         260799\n",
       "precip_depth_1_hr      7801563\n",
       "sea_level_pressure     2516826\n",
       "wind_direction         2978663\n",
       "wind_speed              302089\n",
       "dtype: int64"
      ]
     },
     "execution_count": 60,
     "metadata": {},
     "output_type": "execute_result"
    }
   ],
   "source": [
    "# Check Null Values pada Data Test Gabungan\n",
    "\n",
    "df_all_Test.isnull().sum()"
   ]
  },
  {
   "cell_type": "markdown",
   "metadata": {
    "id": "zV0Co-vDxl3y"
   },
   "source": [
    "**5. Melakukan Explatory Data (EDA)**\n",
    "\n",
    "Karena ini berkaitan dengan prediksi penggunaan energi, maka EDA yang akan dilakukan adalah terhadap data Train gabungan (df_all_Train)"
   ]
  },
  {
   "cell_type": "code",
   "execution_count": 61,
   "metadata": {
    "colab": {
     "base_uri": "https://localhost:8080/"
    },
    "id": "CnFictP6x3nT",
    "outputId": "d930b670-3b47-4a4b-c864-f1c7f7d9e63f"
   },
   "outputs": [
    {
     "data": {
      "text/plain": [
       "count    2.021610e+07\n",
       "mean     1.988706e+03\n",
       "std      1.532159e+05\n",
       "min      0.000000e+00\n",
       "25%      1.830000e+01\n",
       "50%      7.877500e+01\n",
       "75%      2.679840e+02\n",
       "max      2.190470e+07\n",
       "Name: meter_reading, dtype: float64"
      ]
     },
     "execution_count": 61,
     "metadata": {},
     "output_type": "execute_result"
    }
   ],
   "source": [
    "# Melihat pembacaan meteran pada data train gabungan\n",
    "# Informasi Statistika Dasar\n",
    "\n",
    "df_all_Train['meter_reading'].describe()"
   ]
  },
  {
   "cell_type": "code",
   "execution_count": 62,
   "metadata": {
    "colab": {
     "base_uri": "https://localhost:8080/",
     "height": 513
    },
    "id": "RKF4S2LHyGKp",
    "outputId": "f601ff63-2684-4d38-9da0-3148a843891f"
   },
   "outputs": [
    {
     "data": {
      "image/png": "[encoded data removed]",
      "text/plain": [
       "<Figure size 576x576 with 1 Axes>"
      ]
     },
     "metadata": {
      "needs_background": "light"
     },
     "output_type": "display_data"
    }
   ],
   "source": [
    "# Melihat Penggunaan Daya Berdasarkan ID lokasi\n",
    "\n",
    "plt.figure(figsize=(8,8))\n",
    "site_df= df_all_Train.groupby(['site_id']).meter_reading.mean().reset_index()\n",
    "sns.barplot(x=site_df['site_id'], y=site_df['meter_reading'], palette='CMRmap')\n",
    "plt.ylabel(\"Rataan Pembacaan Meter\")\n",
    "plt.xlabel(\"ID Lokasi\")\n",
    "plt.title(\"Rataan Pemakaian Berdasarkan Lokasi\")\n",
    "plt.show()"
   ]
  },
  {
   "cell_type": "markdown",
   "metadata": {
    "id": "mkf6sGdeygJP"
   },
   "source": [
    "Berdasarkan diagram diatas, dapat dilihat bahwa:\n",
    "* Lokasi dengan ID 13 mencatat penggunaan daya rata-rata tertinggi, dan diikuti oleh lokasi dengan ID 7 dan lokasi dengan ID 6.\n",
    "* Penggunaan daya terendah dicatat oleh Lokasi dengan ID 5.\n",
    "* Pada data di lokasi ID 13 diasumsikan kemungkinan adanya outlier (harus dilihat lebih lanjut lewat exploratori berikutnya)"
   ]
  },
  {
   "cell_type": "code",
   "execution_count": 63,
   "metadata": {
    "colab": {
     "base_uri": "https://localhost:8080/",
     "height": 513
    },
    "id": "Jxsej6XCzAtB",
    "outputId": "f93e0abd-cfef-454f-a61c-35011c1c6b2a"
   },
   "outputs": [
    {
     "data": {
      "image/png": "[encoded data removed]",
      "text/plain": [
       "<Figure size 576x576 with 1 Axes>"
      ]
     },
     "metadata": {
      "needs_background": "light"
     },
     "output_type": "display_data"
    }
   ],
   "source": [
    "# Melihat Penggunaan Daya Berdasarkan ID Gedung\n",
    "\n",
    "plt.figure(figsize=(8,8))\n",
    "site_df= df_all_Train.groupby(['building_id']).meter_reading.mean().reset_index()\n",
    "sns.lineplot(x=site_df['building_id'], y=site_df['meter_reading'], color='red')\n",
    "plt.ylabel(\"Rataan Pembacaan Meter\")\n",
    "plt.xlabel(\"ID Gedung\")\n",
    "plt.title(\"Rataan Pemakaian Berdasarkan Gedung\")\n",
    "plt.show()"
   ]
  },
  {
   "cell_type": "code",
   "execution_count": 64,
   "metadata": {
    "colab": {
     "base_uri": "https://localhost:8080/"
    },
    "id": "HaQL5R9wzaSF",
    "outputId": "62350044-9200-4f5c-e5cb-7d56f1de82d3"
   },
   "outputs": [
    {
     "name": "stdout",
     "output_type": "stream",
     "text": [
      "         building_id  meter            timestamp  meter_reading  site_id  \\\n",
      "8907488         1099      2  2016-06-13 09:00:00     21904700.0       13   \n",
      "\n",
      "        primary_use  square_feet  year_built  floor_count  air_temperature  \\\n",
      "8907488   Education       332884         NaN          NaN         19.40625   \n",
      "\n",
      "         cloud_coverage  dew_temperature  precip_depth_1_hr  \\\n",
      "8907488             NaN        17.203125                0.0   \n",
      "\n",
      "         sea_level_pressure  wind_direction  wind_speed  \n",
      "8907488              1014.5            50.0    6.199219  \n"
     ]
    }
   ],
   "source": [
    "print(df_all_Train[df_all_Train.meter_reading == df_all_Train.meter_reading.max()])"
   ]
  },
  {
   "cell_type": "markdown",
   "metadata": {
    "id": "af0oGHQIzz5b"
   },
   "source": [
    "Seperti yang dapat kita lihat dari plot di atas, pembacaan meter bervariasi di seluruh bangunan. **Bangunan dengan ID 1099** memiliki lonjakan penggunaan daya yang besar dalam penggunaannya, sementara banyak bangunan menggunakan energi yang sangat sedikit. Hal itu akan dianggap sebagai **outlier.**\n",
    "\n",
    "Karena dianggap sebagai **outlier** maka pembacaan meter di bangunan dengan ID 1099 akan di hapus, kemudian setelah itu akan dilihat data selanjutnya apakah masih memiliki **outlier atau tidak.**"
   ]
  },
  {
   "cell_type": "code",
   "execution_count": 65,
   "metadata": {
    "id": "x0zUHMRr0N7J"
   },
   "outputs": [],
   "source": [
    "# Fungsi Plotting/tampil grafik distribusi dari tiap kolom pada dataframe\n",
    "\n",
    "sns.set_theme()\n",
    "\n",
    "def tampil_grafik_distribusi(dataframe, column_name):\n",
    "    \n",
    "    fig, ax = plt.subplots(figsize=(8, 8))\n",
    "    sns.distplot(dataframe[column_name], color='blue', ax = ax).set_title(\"Grafik Distribusi untuk {}\".format(column_name), fontsize=16)\n",
    "    plt.xlabel(column_name, fontsize=12)\n",
    "    plt.ylabel('Density', fontsize=12)\n",
    "    plt.show()"
   ]
  },
  {
   "cell_type": "code",
   "execution_count": 66,
   "metadata": {
    "colab": {
     "base_uri": "https://localhost:8080/",
     "height": 520
    },
    "id": "6I4PAjsP0fQC",
    "outputId": "281a942c-c41a-46d1-e97b-d45352d9fcf6"
   },
   "outputs": [
    {
     "data": {
      "image/png": "[encoded data removed]",
      "text/plain": [
       "<Figure size 576x576 with 1 Axes>"
      ]
     },
     "metadata": {},
     "output_type": "display_data"
    }
   ],
   "source": [
    "tampil_grafik_distribusi(df_all_Train,'meter_reading')"
   ]
  },
  {
   "cell_type": "code",
   "execution_count": 67,
   "metadata": {
    "id": "WsKrfswU0t3V"
   },
   "outputs": [],
   "source": [
    "# Melakukan transformasi log terhadap data di kolom meter_reading pada data train\n",
    "\n",
    "df_all_Train['meter_reading']=np.log1p(df_all_Train['meter_reading'])"
   ]
  },
  {
   "cell_type": "code",
   "execution_count": 68,
   "metadata": {
    "colab": {
     "base_uri": "https://localhost:8080/",
     "height": 520
    },
    "id": "jfLW2Y3w1TSF",
    "outputId": "a8749af0-c77c-4b74-ba9d-acf2b512ce9c"
   },
   "outputs": [
    {
     "data": {
      "image/png": "[encoded data removed]",
      "text/plain": [
       "<Figure size 576x576 with 1 Axes>"
      ]
     },
     "metadata": {},
     "output_type": "display_data"
    }
   ],
   "source": [
    "tampil_grafik_distribusi(df_all_Train,'meter_reading')"
   ]
  },
  {
   "cell_type": "code",
   "execution_count": 69,
   "metadata": {
    "colab": {
     "base_uri": "https://localhost:8080/"
    },
    "id": "Duf65gCu2Ffx",
    "outputId": "9ec3a34f-ec21-463a-b89c-0237ba1da2e7"
   },
   "outputs": [
    {
     "data": {
      "text/plain": [
       "count    2.021610e+07\n",
       "mean     4.208398e+00\n",
       "std      2.074255e+00\n",
       "min      0.000000e+00\n",
       "25%      2.960105e+00\n",
       "50%      4.379210e+00\n",
       "75%      5.594652e+00\n",
       "max      1.690221e+01\n",
       "Name: meter_reading, dtype: float64"
      ]
     },
     "execution_count": 69,
     "metadata": {},
     "output_type": "execute_result"
    }
   ],
   "source": [
    "# Melihat deskripsi data dan grafik dari data meter_reading setelah transformasi log\n",
    "\n",
    "df_all_Train['meter_reading'].describe()"
   ]
  },
  {
   "cell_type": "code",
   "execution_count": 70,
   "metadata": {
    "id": "V5S4k61Z3FhS"
   },
   "outputs": [],
   "source": [
    "# Untuk analisa lebih lanjut, maka kita akan memberikan nama dari tiap kategori dari meter_id, dimana {0: listrik, 1: air dingin, 2: uap, 3: air panas}\n",
    "\n",
    "df_all_Train['meter'].replace({0: 'Listrik', 1: 'Air Dingin', 2: 'Uap', 3: 'Air Panas'}, inplace=True)"
   ]
  },
  {
   "cell_type": "code",
   "execution_count": 71,
   "metadata": {
    "colab": {
     "base_uri": "https://localhost:8080/",
     "height": 520
    },
    "id": "tYcmBPV83SXk",
    "outputId": "e75d44e7-42c6-4e45-e0d0-8ded927c0360"
   },
   "outputs": [
    {
     "data": {
      "image/png": "[encoded data removed]",
      "text/plain": [
       "<Figure size 576x576 with 1 Axes>"
      ]
     },
     "metadata": {},
     "output_type": "display_data"
    }
   ],
   "source": [
    "# Melakukan Plot frekuensi penggunaan daya (Pembacaan Meter) dan juga Rataan penggunaan daya (Pembacaan Meter) dengan nama meter_id yang sudah diubah\n",
    "\n",
    "# 1. Plot Frekuensi Penggunaan Daya (Pembacaan Meter)\n",
    "\n",
    "plt.figure(figsize=(8,8))\n",
    "sns.countplot(x = 'meter', data = df_all_Train).set_title(\"Frekuensi Pembacaan oleh Berbagai Jenis Meter\", fontsize=16)\n",
    "plt.xlabel('Tipe Meter (meter_id)', fontsize=12)\n",
    "plt.ylabel('Pembacaan Penghitungan Daya', fontsize=12)\n",
    "plt.show()"
   ]
  },
  {
   "cell_type": "markdown",
   "metadata": {
    "id": "AvhDRkqp3l_L"
   },
   "source": [
    "Dari plot 1 di atas, frekuensi penggunaan daya berdasarkan meter_id penggunaan listrik memiliki pembacaan meter **paling banyak digunakan oleh Listrik,** diikuti oleh air dingin dan uap. Sedangkan **Pembacaan terendah adalah untuk air panas.**"
   ]
  },
  {
   "cell_type": "code",
   "execution_count": 72,
   "metadata": {
    "colab": {
     "base_uri": "https://localhost:8080/",
     "height": 535
    },
    "id": "WopgNknS4Al0",
    "outputId": "3fcd7766-5482-4e82-ae84-29148188b53b"
   },
   "outputs": [
    {
     "data": {
      "text/plain": [
       "Text(0.5, 1.0, 'Rata-rata Pembacaan oleh Berbagai Jenis Meter')"
      ]
     },
     "execution_count": 72,
     "metadata": {},
     "output_type": "execute_result"
    },
    {
     "data": {
      "image/png": "[encoded data removed]",
      "text/plain": [
       "<Figure size 576x576 with 1 Axes>"
      ]
     },
     "metadata": {},
     "output_type": "display_data"
    }
   ],
   "source": [
    "# 2. Plot Rata-Rata Penggunaan Daya (Pembacaan Meter)\n",
    "\n",
    "plt.figure(figsize=(8,8))\n",
    "meter_df= df_all_Train.groupby('meter').meter_reading.mean().reset_index()\n",
    "ax= sns.barplot(x='meter', y='meter_reading', data=meter_df, palette='pastel')\n",
    "plt.title(\"Rata-rata Pembacaan oleh Berbagai Jenis Meter\")"
   ]
  },
  {
   "cell_type": "markdown",
   "metadata": {
    "id": "nSCV8jgM4juJ"
   },
   "source": [
    "Dari plot 2 di atas, Rataan penggunaan daya **Uap adalah yang paling boros daya** dan **air panas adalah yang paling hemat daya.**"
   ]
  },
  {
   "cell_type": "code",
   "execution_count": 73,
   "metadata": {
    "colab": {
     "base_uri": "https://localhost:8080/",
     "height": 520
    },
    "id": "_s_baqmJ41wR",
    "outputId": "4821e458-3ba6-44af-d29b-462e04a9b671"
   },
   "outputs": [
    {
     "data": {
      "image/png": "[encoded data removed]",
      "text/plain": [
       "<Figure size 576x576 with 1 Axes>"
      ]
     },
     "metadata": {},
     "output_type": "display_data"
    }
   ],
   "source": [
    "# 3. Pengamatan Penggunaan Daya Berdasarkan Pemakaian Utama (primary_use)\n",
    "\n",
    "plt.figure(figsize=(8,8))\n",
    "sns.countplot(y = 'primary_use', data = df_all_Train).set_title(\"Frekuensi Pemakaian Berdasarkan Pemakaian Utama\", fontsize=16)\n",
    "plt.ylabel('Kategori Pemakaian Utama', fontsize=12)\n",
    "plt.xlabel('Jumlah Pemakaian', fontsize=12)\n",
    "plt.show()"
   ]
  },
  {
   "cell_type": "markdown",
   "metadata": {
    "id": "yP_Qo6gV52ex"
   },
   "source": [
    "Dari Plot di atas terlihat bahwa penggunaan daya (pembacaan meter) **paling besar oleh lembaga pendidikan**, diikuti oleh kantor, hiburan dan bangunan Penginapan/perumahan.\n"
   ]
  },
  {
   "cell_type": "code",
   "execution_count": 74,
   "metadata": {
    "colab": {
     "base_uri": "https://localhost:8080/",
     "height": 631
    },
    "id": "tF2zhWNa6QpD",
    "outputId": "cf9e4665-98ab-4060-a111-a4c3bbcfed86"
   },
   "outputs": [
    {
     "data": {
      "image/png": "[encoded data removed]",
      "text/plain": [
       "<Figure size 1296x720 with 1 Axes>"
      ]
     },
     "metadata": {},
     "output_type": "display_data"
    }
   ],
   "source": [
    "# 4. Pengamatan Penggunaan Daya Tiap Gedung (primary_use) Berdasarkan Lokasi (site_id)\n",
    "\n",
    "site_use_grouping = df_all_Train.groupby(['site_id','primary_use'])['meter_reading'].mean().unstack('primary_use')\n",
    "site_use_grouping.plot(kind = 'bar', stacked = True, figsize=(18,10)).set_title(\"Rataan Pembacaan Meter Log Per Lokasi(site) dan Gedung(primary use)\")\n",
    "plt.xlabel('Lokasi(site_id)')\n",
    "plt.ylabel('Pembacaan Meter Log')\n",
    "plt.legend(loc = \"upper left\")\n",
    "plt.show()"
   ]
  },
  {
   "cell_type": "markdown",
   "metadata": {
    "id": "6K7f8p3x6-tz"
   },
   "source": [
    "Dari diagram diatas, diperoleh bahwa:\n",
    "* Lokasi ke-13 memiliki pembacaan meter rata-rata tertinggi yang terdiri dari beberapa bangunan.\n",
    "* Lokasi ke-11 memiliki pembacaan meter rata-rata paling rendah dan bangunan di lokasi ini hanya lembaga pendidikan"
   ]
  },
  {
   "cell_type": "markdown",
   "metadata": {
    "id": "EvR8QrdA72ca"
   },
   "source": [
    "**6. Melihat Missing Value pada fitur/variabel data frame**"
   ]
  },
  {
   "cell_type": "code",
   "execution_count": 75,
   "metadata": {
    "colab": {
     "base_uri": "https://localhost:8080/",
     "height": 332
    },
    "id": "C5D6busP780z",
    "outputId": "21f4615b-6a7e-45f5-9a25-58b639a37722"
   },
   "outputs": [
    {
     "data": {
      "text/html": [
       "\n",
       "  <div id=\"df-5b9254b0-18bc-4e0e-9e29-4f83177117aa\">\n",
       "    <div class=\"colab-df-container\">\n",
       "      <div>\n",
       "<style scoped>\n",
       "    .dataframe tbody tr th:only-of-type {\n",
       "        vertical-align: middle;\n",
       "    }\n",
       "\n",
       "    .dataframe tbody tr th {\n",
       "        vertical-align: top;\n",
       "    }\n",
       "\n",
       "    .dataframe thead th {\n",
       "        text-align: right;\n",
       "    }\n",
       "</style>\n",
       "<table border=\"1\" class=\"dataframe\">\n",
       "  <thead>\n",
       "    <tr style=\"text-align: right;\">\n",
       "      <th></th>\n",
       "      <th>Missing Values</th>\n",
       "    </tr>\n",
       "  </thead>\n",
       "  <tbody>\n",
       "    <tr>\n",
       "      <th>floor_count</th>\n",
       "      <td>82.652772</td>\n",
       "    </tr>\n",
       "    <tr>\n",
       "      <th>year_built</th>\n",
       "      <td>59.990033</td>\n",
       "    </tr>\n",
       "    <tr>\n",
       "      <th>cloud_coverage</th>\n",
       "      <td>43.655131</td>\n",
       "    </tr>\n",
       "    <tr>\n",
       "      <th>precip_depth_1_hr</th>\n",
       "      <td>18.544739</td>\n",
       "    </tr>\n",
       "    <tr>\n",
       "      <th>wind_direction</th>\n",
       "      <td>7.167792</td>\n",
       "    </tr>\n",
       "    <tr>\n",
       "      <th>sea_level_pressure</th>\n",
       "      <td>6.092515</td>\n",
       "    </tr>\n",
       "    <tr>\n",
       "      <th>wind_speed</th>\n",
       "      <td>0.710701</td>\n",
       "    </tr>\n",
       "    <tr>\n",
       "      <th>dew_temperature</th>\n",
       "      <td>0.495348</td>\n",
       "    </tr>\n",
       "    <tr>\n",
       "      <th>air_temperature</th>\n",
       "      <td>0.478124</td>\n",
       "    </tr>\n",
       "  </tbody>\n",
       "</table>\n",
       "</div>\n",
       "      <button class=\"colab-df-convert\" onclick=\"convertToInteractive('df-5b9254b0-18bc-4e0e-9e29-4f83177117aa')\"\n",
       "              title=\"Convert this dataframe to an interactive table.\"\n",
       "              style=\"display:none;\">\n",
       "        \n",
       "  <svg xmlns=\"http://www.w3.org/2000/svg\" height=\"24px\"viewBox=\"0 0 24 24\"\n",
       "       width=\"24px\">\n",
       "    <path d=\"M0 0h24v24H0V0z\" fill=\"none\"/>\n",
       "    <path d=\"M18.56 5.44l.94 2.06.94-2.06 2.06-.94-2.06-.94-.94-2.06-.94 2.06-2.06.94zm-11 1L8.5 8.5l.94-2.06 2.06-.94-2.06-.94L8.5 2.5l-.94 2.06-2.06.94zm10 10l.94 2.06.94-2.06 2.06-.94-2.06-.94-.94-2.06-.94 2.06-2.06.94z\"/><path d=\"M17.41 7.96l-1.37-1.37c-.4-.4-.92-.59-1.43-.59-.52 0-1.04.2-1.43.59L10.3 9.45l-7.72 7.72c-.78.78-.78 2.05 0 2.83L4 21.41c.39.39.9.59 1.41.59.51 0 1.02-.2 1.41-.59l7.78-7.78 2.81-2.81c.8-.78.8-2.07 0-2.86zM5.41 20L4 18.59l7.72-7.72 1.47 1.35L5.41 20z\"/>\n",
       "  </svg>\n",
       "      </button>\n",
       "      \n",
       "  <style>\n",
       "    .colab-df-container {\n",
       "      display:flex;\n",
       "      flex-wrap:wrap;\n",
       "      gap: 12px;\n",
       "    }\n",
       "\n",
       "    .colab-df-convert {\n",
       "      background-color: #E8F0FE;\n",
       "      border: none;\n",
       "      border-radius: 50%;\n",
       "      cursor: pointer;\n",
       "      display: none;\n",
       "      fill: #1967D2;\n",
       "      height: 32px;\n",
       "      padding: 0 0 0 0;\n",
       "      width: 32px;\n",
       "    }\n",
       "\n",
       "    .colab-df-convert:hover {\n",
       "      background-color: #E2EBFA;\n",
       "      box-shadow: 0px 1px 2px rgba(60, 64, 67, 0.3), 0px 1px 3px 1px rgba(60, 64, 67, 0.15);\n",
       "      fill: #174EA6;\n",
       "    }\n",
       "\n",
       "    [theme=dark] .colab-df-convert {\n",
       "      background-color: #3B4455;\n",
       "      fill: #D2E3FC;\n",
       "    }\n",
       "\n",
       "    [theme=dark] .colab-df-convert:hover {\n",
       "      background-color: #434B5C;\n",
       "      box-shadow: 0px 1px 3px 1px rgba(0, 0, 0, 0.15);\n",
       "      filter: drop-shadow(0px 1px 2px rgba(0, 0, 0, 0.3));\n",
       "      fill: #FFFFFF;\n",
       "    }\n",
       "  </style>\n",
       "\n",
       "      <script>\n",
       "        const buttonEl =\n",
       "          document.querySelector('#df-5b9254b0-18bc-4e0e-9e29-4f83177117aa button.colab-df-convert');\n",
       "        buttonEl.style.display =\n",
       "          google.colab.kernel.accessAllowed ? 'block' : 'none';\n",
       "\n",
       "        async function convertToInteractive(key) {\n",
       "          const element = document.querySelector('#df-5b9254b0-18bc-4e0e-9e29-4f83177117aa');\n",
       "          const dataTable =\n",
       "            await google.colab.kernel.invokeFunction('convertToInteractive',\n",
       "                                                     [key], {});\n",
       "          if (!dataTable) return;\n",
       "\n",
       "          const docLinkHtml = 'Like what you see? Visit the ' +\n",
       "            '<a target=\"_blank\" href=https://colab.research.google.com/notebooks/data_table.ipynb>data table notebook</a>'\n",
       "            + ' to learn more about interactive tables.';\n",
       "          element.innerHTML = '';\n",
       "          dataTable['output_type'] = 'display_data';\n",
       "          await google.colab.output.renderOutput(dataTable, element);\n",
       "          const docLink = document.createElement('div');\n",
       "          docLink.innerHTML = docLinkHtml;\n",
       "          element.appendChild(docLink);\n",
       "        }\n",
       "      </script>\n",
       "    </div>\n",
       "  </div>\n",
       "  "
      ],
      "text/plain": [
       "                    Missing Values\n",
       "floor_count              82.652772\n",
       "year_built               59.990033\n",
       "cloud_coverage           43.655131\n",
       "precip_depth_1_hr        18.544739\n",
       "wind_direction            7.167792\n",
       "sea_level_pressure        6.092515\n",
       "wind_speed                0.710701\n",
       "dew_temperature           0.495348\n",
       "air_temperature           0.478124"
      ]
     },
     "execution_count": 75,
     "metadata": {},
     "output_type": "execute_result"
    }
   ],
   "source": [
    "missing_values = pd.DataFrame(df_all_Train.isnull().sum() * 100 / len(df_all_Train))\n",
    "missing_values.columns = [\"Missing Values\"]\n",
    "\n",
    "missing_values = missing_values[missing_values[\"Missing Values\"] != 0]\n",
    "missing_values.sort_values(by = \"Missing Values\", axis = 0, ascending = False, inplace = True)\n",
    "\n",
    "missing_values"
   ]
  },
  {
   "cell_type": "code",
   "execution_count": 76,
   "metadata": {
    "colab": {
     "base_uri": "https://localhost:8080/",
     "height": 520
    },
    "id": "wA8bA69O8GfZ",
    "outputId": "23396f58-3030-4c87-cde0-5e97c000e34b"
   },
   "outputs": [
    {
     "data": {
      "image/png": "[encoded data removed]",
      "text/plain": [
       "<Figure size 576x576 with 1 Axes>"
      ]
     },
     "metadata": {},
     "output_type": "display_data"
    }
   ],
   "source": [
    "plt.figure(figsize=(8,8))\n",
    "sns.barplot(x = missing_values['Missing Values'], y = missing_values.index).set_title(\"Persentase Missing Value Per Fitur/Variabel\", fontsize=16)\n",
    "plt.xlabel('Percentage Missing', fontsize=12)\n",
    "plt.ylabel('Fitur/Variabel', fontsize=12)\n",
    "plt.show()"
   ]
  },
  {
   "cell_type": "markdown",
   "metadata": {
    "id": "j-gkjdV98QvK"
   },
   "source": [
    "Fitur/variabel **Banyak Lantai (floor_count) dan tahun pembuatan (year_built) memiliki missing value lebih dari 50%**, oleh karena itu nantinya variabel ini akan kita **hapus**, sedangkan untuk **fitur/variabel lainnya akan dilakukan imputasi dengan mengisi data yang kosong dengan median tiap fitur/variabel.**"
   ]
  },
  {
   "cell_type": "code",
   "execution_count": 77,
   "metadata": {
    "colab": {
     "base_uri": "https://localhost:8080/",
     "height": 457
    },
    "id": "g82pqwwX9X2p",
    "outputId": "8a4dec00-b07c-4711-b8ea-cd3941ae294d"
   },
   "outputs": [
    {
     "data": {
      "text/html": [
       "\n",
       "  <div id=\"df-4b90cfc7-97ee-45ba-ba08-9e868796a21c\">\n",
       "    <div class=\"colab-df-container\">\n",
       "      <div>\n",
       "<style scoped>\n",
       "    .dataframe tbody tr th:only-of-type {\n",
       "        vertical-align: middle;\n",
       "    }\n",
       "\n",
       "    .dataframe tbody tr th {\n",
       "        vertical-align: top;\n",
       "    }\n",
       "\n",
       "    .dataframe thead th {\n",
       "        text-align: right;\n",
       "    }\n",
       "</style>\n",
       "<table border=\"1\" class=\"dataframe\">\n",
       "  <thead>\n",
       "    <tr style=\"text-align: right;\">\n",
       "      <th></th>\n",
       "      <th>meter_reading</th>\n",
       "    </tr>\n",
       "  </thead>\n",
       "  <tbody>\n",
       "    <tr>\n",
       "      <th>meter_reading</th>\n",
       "      <td>1.000000</td>\n",
       "    </tr>\n",
       "    <tr>\n",
       "      <th>square_feet</th>\n",
       "      <td>0.366016</td>\n",
       "    </tr>\n",
       "    <tr>\n",
       "      <th>floor_count</th>\n",
       "      <td>0.342052</td>\n",
       "    </tr>\n",
       "    <tr>\n",
       "      <th>site_id</th>\n",
       "      <td>0.139902</td>\n",
       "    </tr>\n",
       "    <tr>\n",
       "      <th>building_id</th>\n",
       "      <td>0.126395</td>\n",
       "    </tr>\n",
       "    <tr>\n",
       "      <th>year_built</th>\n",
       "      <td>0.103332</td>\n",
       "    </tr>\n",
       "    <tr>\n",
       "      <th>dew_temperature</th>\n",
       "      <td>0.008358</td>\n",
       "    </tr>\n",
       "    <tr>\n",
       "      <th>precip_depth_1_hr</th>\n",
       "      <td>0.002923</td>\n",
       "    </tr>\n",
       "    <tr>\n",
       "      <th>air_temperature</th>\n",
       "      <td>-0.004704</td>\n",
       "    </tr>\n",
       "    <tr>\n",
       "      <th>sea_level_pressure</th>\n",
       "      <td>-0.008521</td>\n",
       "    </tr>\n",
       "    <tr>\n",
       "      <th>wind_direction</th>\n",
       "      <td>-0.014726</td>\n",
       "    </tr>\n",
       "    <tr>\n",
       "      <th>wind_speed</th>\n",
       "      <td>-0.032391</td>\n",
       "    </tr>\n",
       "    <tr>\n",
       "      <th>cloud_coverage</th>\n",
       "      <td>-0.033119</td>\n",
       "    </tr>\n",
       "  </tbody>\n",
       "</table>\n",
       "</div>\n",
       "      <button class=\"colab-df-convert\" onclick=\"convertToInteractive('df-4b90cfc7-97ee-45ba-ba08-9e868796a21c')\"\n",
       "              title=\"Convert this dataframe to an interactive table.\"\n",
       "              style=\"display:none;\">\n",
       "        \n",
       "  <svg xmlns=\"http://www.w3.org/2000/svg\" height=\"24px\"viewBox=\"0 0 24 24\"\n",
       "       width=\"24px\">\n",
       "    <path d=\"M0 0h24v24H0V0z\" fill=\"none\"/>\n",
       "    <path d=\"M18.56 5.44l.94 2.06.94-2.06 2.06-.94-2.06-.94-.94-2.06-.94 2.06-2.06.94zm-11 1L8.5 8.5l.94-2.06 2.06-.94-2.06-.94L8.5 2.5l-.94 2.06-2.06.94zm10 10l.94 2.06.94-2.06 2.06-.94-2.06-.94-.94-2.06-.94 2.06-2.06.94z\"/><path d=\"M17.41 7.96l-1.37-1.37c-.4-.4-.92-.59-1.43-.59-.52 0-1.04.2-1.43.59L10.3 9.45l-7.72 7.72c-.78.78-.78 2.05 0 2.83L4 21.41c.39.39.9.59 1.41.59.51 0 1.02-.2 1.41-.59l7.78-7.78 2.81-2.81c.8-.78.8-2.07 0-2.86zM5.41 20L4 18.59l7.72-7.72 1.47 1.35L5.41 20z\"/>\n",
       "  </svg>\n",
       "      </button>\n",
       "      \n",
       "  <style>\n",
       "    .colab-df-container {\n",
       "      display:flex;\n",
       "      flex-wrap:wrap;\n",
       "      gap: 12px;\n",
       "    }\n",
       "\n",
       "    .colab-df-convert {\n",
       "      background-color: #E8F0FE;\n",
       "      border: none;\n",
       "      border-radius: 50%;\n",
       "      cursor: pointer;\n",
       "      display: none;\n",
       "      fill: #1967D2;\n",
       "      height: 32px;\n",
       "      padding: 0 0 0 0;\n",
       "      width: 32px;\n",
       "    }\n",
       "\n",
       "    .colab-df-convert:hover {\n",
       "      background-color: #E2EBFA;\n",
       "      box-shadow: 0px 1px 2px rgba(60, 64, 67, 0.3), 0px 1px 3px 1px rgba(60, 64, 67, 0.15);\n",
       "      fill: #174EA6;\n",
       "    }\n",
       "\n",
       "    [theme=dark] .colab-df-convert {\n",
       "      background-color: #3B4455;\n",
       "      fill: #D2E3FC;\n",
       "    }\n",
       "\n",
       "    [theme=dark] .colab-df-convert:hover {\n",
       "      background-color: #434B5C;\n",
       "      box-shadow: 0px 1px 3px 1px rgba(0, 0, 0, 0.15);\n",
       "      filter: drop-shadow(0px 1px 2px rgba(0, 0, 0, 0.3));\n",
       "      fill: #FFFFFF;\n",
       "    }\n",
       "  </style>\n",
       "\n",
       "      <script>\n",
       "        const buttonEl =\n",
       "          document.querySelector('#df-4b90cfc7-97ee-45ba-ba08-9e868796a21c button.colab-df-convert');\n",
       "        buttonEl.style.display =\n",
       "          google.colab.kernel.accessAllowed ? 'block' : 'none';\n",
       "\n",
       "        async function convertToInteractive(key) {\n",
       "          const element = document.querySelector('#df-4b90cfc7-97ee-45ba-ba08-9e868796a21c');\n",
       "          const dataTable =\n",
       "            await google.colab.kernel.invokeFunction('convertToInteractive',\n",
       "                                                     [key], {});\n",
       "          if (!dataTable) return;\n",
       "\n",
       "          const docLinkHtml = 'Like what you see? Visit the ' +\n",
       "            '<a target=\"_blank\" href=https://colab.research.google.com/notebooks/data_table.ipynb>data table notebook</a>'\n",
       "            + ' to learn more about interactive tables.';\n",
       "          element.innerHTML = '';\n",
       "          dataTable['output_type'] = 'display_data';\n",
       "          await google.colab.output.renderOutput(dataTable, element);\n",
       "          const docLink = document.createElement('div');\n",
       "          docLink.innerHTML = docLinkHtml;\n",
       "          element.appendChild(docLink);\n",
       "        }\n",
       "      </script>\n",
       "    </div>\n",
       "  </div>\n",
       "  "
      ],
      "text/plain": [
       "                    meter_reading\n",
       "meter_reading            1.000000\n",
       "square_feet              0.366016\n",
       "floor_count              0.342052\n",
       "site_id                  0.139902\n",
       "building_id              0.126395\n",
       "year_built               0.103332\n",
       "dew_temperature          0.008358\n",
       "precip_depth_1_hr        0.002923\n",
       "air_temperature         -0.004704\n",
       "sea_level_pressure      -0.008521\n",
       "wind_direction          -0.014726\n",
       "wind_speed              -0.032391\n",
       "cloud_coverage          -0.033119"
      ]
     },
     "execution_count": 77,
     "metadata": {},
     "output_type": "execute_result"
    }
   ],
   "source": [
    "target_corr_df = pd.DataFrame(df_all_Train.corr()[\"meter_reading\"].sort_values(ascending=False))\n",
    "target_corr_df"
   ]
  },
  {
   "cell_type": "markdown",
   "metadata": {
    "id": "Ly28uAor9suA"
   },
   "source": [
    "Terlihat bahwa **tidak ada korelasi yang cukup kuat antara pembacaan meter (meter_reading) dengan fitur/variabel lainnya.**"
   ]
  },
  {
   "cell_type": "markdown",
   "metadata": {
    "id": "v_soMS0f90q-"
   },
   "source": [
    "**7. Treatment terhadap outlier**\n",
    "\n",
    "Berdasarkan plot rataan pembacaan daya berdasarkan ID gedung sebelumnya, bahwa pada gedung dengan ID 1099 pembacaan daya sangat tinggi, dan hal ini kita anggap sebagai outlier"
   ]
  },
  {
   "cell_type": "code",
   "execution_count": 78,
   "metadata": {
    "colab": {
     "base_uri": "https://localhost:8080/"
    },
    "id": "Xo2kwTkjkvVC",
    "outputId": "30833c05-689c-42a7-c7b5-059807ba883a"
   },
   "outputs": [
    {
     "data": {
      "text/plain": [
       "count    17566.000000\n",
       "mean         8.564197\n",
       "std          3.608276\n",
       "min          4.976734\n",
       "25%          6.256500\n",
       "50%          6.894363\n",
       "75%          8.854950\n",
       "max         16.902212\n",
       "Name: meter_reading, dtype: float64"
      ]
     },
     "execution_count": 78,
     "metadata": {},
     "output_type": "execute_result"
    }
   ],
   "source": [
    "# Informasi Statistika Dasar pada Gedung ID 1099\n",
    "\n",
    "df_all_Train[df_all_Train['building_id']==1099]['meter_reading'].describe()"
   ]
  },
  {
   "cell_type": "code",
   "execution_count": 79,
   "metadata": {
    "id": "YUId-0d9lF8Z"
   },
   "outputs": [],
   "source": [
    "# Menghapus Data Pengamatan untuk ID Bangunan 1099\n",
    "\n",
    "drop_indices= list(df_all_Train[df_all_Train['building_id']==1099].index)\n",
    "df_all_Train.drop(drop_indices, axis=0, inplace=True)"
   ]
  },
  {
   "cell_type": "code",
   "execution_count": 80,
   "metadata": {
    "colab": {
     "base_uri": "https://localhost:8080/"
    },
    "id": "ZBRiB5OBlZZY",
    "outputId": "d4d74c39-a936-439a-c6a6-5fe40b60a7f4"
   },
   "outputs": [
    {
     "name": "stdout",
     "output_type": "stream",
     "text": [
      "          building_id       meter            timestamp  meter_reading  \\\n",
      "13851463          778  Air Dingin  2016-09-09 17:00:00      13.688104   \n",
      "\n",
      "          site_id                    primary_use  square_feet  year_built  \\\n",
      "13851463        6  Entertainment/public assembly       108339         NaN   \n",
      "\n",
      "          floor_count  air_temperature  cloud_coverage  dew_temperature  \\\n",
      "13851463          NaN         33.90625             0.0             20.0   \n",
      "\n",
      "          precip_depth_1_hr  sea_level_pressure  wind_direction  wind_speed  \n",
      "13851463                0.0              1014.5             NaN         NaN  \n"
     ]
    }
   ],
   "source": [
    "# Mengamati apakah masih ada outlier lain pada pembacaan meter (meter_reading) dengan melihat pembacaan terbesar lainnya\n",
    "\n",
    "print(df_all_Train[df_all_Train.meter_reading == df_all_Train.meter_reading.max()])"
   ]
  },
  {
   "cell_type": "code",
   "execution_count": 81,
   "metadata": {
    "colab": {
     "base_uri": "https://localhost:8080/"
    },
    "id": "wr9t1SIYlm9G",
    "outputId": "046b520f-5895-4b7b-89db-ef3cff07120c"
   },
   "outputs": [
    {
     "data": {
      "text/plain": [
       "count    16860.000000\n",
       "mean         3.487550\n",
       "std          3.450661\n",
       "min          0.000000\n",
       "25%          0.000000\n",
       "50%          5.066700\n",
       "75%          5.585844\n",
       "max         13.688104\n",
       "Name: meter_reading, dtype: float64"
      ]
     },
     "execution_count": 81,
     "metadata": {},
     "output_type": "execute_result"
    }
   ],
   "source": [
    "# Dari informasi di atas, terlihat bahwa pembacaan meter Terbesar selanjutnya adalah gedung dengan ID gedung 778\n",
    "# Informasi deskripsi datanya sebagai berikut\n",
    "\n",
    "df_all_Train[df_all_Train['building_id']==778]['meter_reading'].describe()"
   ]
  },
  {
   "cell_type": "code",
   "execution_count": 82,
   "metadata": {
    "id": "rB7zqMf3mBof"
   },
   "outputs": [],
   "source": [
    "# jika dibandingkan dengan plot awal, sepertinya gedung dengan ID 778 juga termasuk Outlier, sehingga akan dihapus kembali\n",
    "\n",
    "drop_indices= list(df_all_Train[df_all_Train['building_id']==778].index)\n",
    "df_all_Train.drop(drop_indices, axis=0, inplace=True)"
   ]
  },
  {
   "cell_type": "code",
   "execution_count": 83,
   "metadata": {
    "colab": {
     "base_uri": "https://localhost:8080/"
    },
    "id": "uHxjzGQkmikO",
    "outputId": "a1f3bd00-042d-4c66-d391-3375ee3b9233"
   },
   "outputs": [
    {
     "name": "stdout",
     "output_type": "stream",
     "text": [
      "          building_id       meter            timestamp  meter_reading  \\\n",
      "14679956         1088  Air Dingin  2016-09-24 09:00:00      12.784485   \n",
      "\n",
      "          site_id primary_use  square_feet  year_built  floor_count  \\\n",
      "14679956       13   Education       287594         NaN          NaN   \n",
      "\n",
      "          air_temperature  cloud_coverage  dew_temperature  precip_depth_1_hr  \\\n",
      "14679956        18.296875             NaN         16.09375                0.0   \n",
      "\n",
      "          sea_level_pressure  wind_direction  wind_speed  \n",
      "14679956              1019.0           140.0    4.101562  \n"
     ]
    }
   ],
   "source": [
    "# Mengamati kembali apakah masih ada outlier lain pada pembacaan meter (meter_reading) dengan melihat pembacaan terbesar lainnya\n",
    "\n",
    "print(df_all_Train[df_all_Train.meter_reading == df_all_Train.meter_reading.max()])"
   ]
  },
  {
   "cell_type": "code",
   "execution_count": 84,
   "metadata": {
    "colab": {
     "base_uri": "https://localhost:8080/"
    },
    "id": "W4-ep-29mvji",
    "outputId": "ffe323e2-b4e5-420d-f73f-573430c2b3ce"
   },
   "outputs": [
    {
     "data": {
      "text/plain": [
       "count    26336.000000\n",
       "mean         7.604514\n",
       "std          1.825624\n",
       "min          0.000000\n",
       "25%          6.488064\n",
       "50%          7.965938\n",
       "75%          8.781313\n",
       "max         12.784485\n",
       "Name: meter_reading, dtype: float64"
      ]
     },
     "execution_count": 84,
     "metadata": {},
     "output_type": "execute_result"
    }
   ],
   "source": [
    "# Dari informasi di atas, terlihat bahwa pembacaan meter Terbesar selanjutnya adalah gedung dengan ID gedung 1088\n",
    "# Informasi deskripsi datanya sebagai berikut\n",
    "\n",
    "df_all_Train[df_all_Train['building_id']==1088]['meter_reading'].describe()"
   ]
  },
  {
   "cell_type": "markdown",
   "metadata": {
    "id": "j_-Bg22ynBck"
   },
   "source": [
    "Dari pengamatan sebelumnya penggunaan daya dari bangunan edukasi memang besar. Sehingga Data pada ID gedung 1088 diasumsikan **bukan outlier** karena bangunan tersebut merupakan bangunan edukasi."
   ]
  },
  {
   "cell_type": "markdown",
   "metadata": {
    "id": "LnTWvivcoKtf"
   },
   "source": [
    "**8. Menghapus baris dengan pembacaan nol meter karena dapat menunjukkan pembacaan yang tidak akurat atau tidak tersedia.**"
   ]
  },
  {
   "cell_type": "code",
   "execution_count": 87,
   "metadata": {
    "id": "T_gBvhk0oi0C"
   },
   "outputs": [],
   "source": [
    "pembacaan_meter_nol = list(df_all_Train[df_all_Train['meter_reading'] == 0].index)\n",
    "df_all_Train.drop(pembacaan_meter_nol, axis = 0, inplace = True)"
   ]
  },
  {
   "cell_type": "code",
   "execution_count": 88,
   "metadata": {
    "colab": {
     "base_uri": "https://localhost:8080/"
    },
    "id": "PpLqQwPYomm7",
    "outputId": "444a8815-602a-449b-dfbb-6a3a51ad3801"
   },
   "outputs": [
    {
     "name": "stdout",
     "output_type": "stream",
     "text": [
      "Bentuk Baru dari Data Train: (18314942, 14)\n"
     ]
    }
   ],
   "source": [
    "print('Bentuk Baru dari Data Train:',df_all_Train.shape)"
   ]
  },
  {
   "cell_type": "markdown",
   "metadata": {
    "id": "bFAz6W40ndOq"
   },
   "source": [
    "**9. Menghapus kolom/fitur/variabel dengan missing-value lebih dari 50%**"
   ]
  },
  {
   "cell_type": "code",
   "execution_count": 89,
   "metadata": {
    "id": "-GdJKJ_CniRq"
   },
   "outputs": [],
   "source": [
    "threshold = len(df_all_Train) * 0.5\n",
    "df_all_Train.dropna(axis=1, thresh = threshold, inplace = True)"
   ]
  },
  {
   "cell_type": "code",
   "execution_count": 90,
   "metadata": {
    "colab": {
     "base_uri": "https://localhost:8080/"
    },
    "id": "6bDXdsC2nmgB",
    "outputId": "c496e91a-8d8a-4962-f105-44cc1c3bd79d"
   },
   "outputs": [
    {
     "name": "stdout",
     "output_type": "stream",
     "text": [
      "Bentuk Baru dari Data Train: (18314942, 14)\n"
     ]
    }
   ],
   "source": [
    "print('Bentuk Baru dari Data Train:',df_all_Train.shape)"
   ]
  },
  {
   "cell_type": "markdown",
   "metadata": {
    "id": "JlzbVsaNn6KL"
   },
   "source": [
    "**10. Mengisi nilai yang hilang menggunakan median dari kolom/fitur/variabel.**\n",
    "\n",
    "* Untuk mengetahui metode yang tepat dalam missing value, maka akan dilihat terlebih dahulu deskripsi dari masing-masing fitur/variabel yang memiliki missing value terlebih dahulu.\n",
    "* Setelah kita hapus floor_count dan year_built, maka fitur/variabel yang masih memiliki missing value adalah = cloud_coverage,precip_depth_1_hr, wind_direction, sea_level_pressure, wind_speed, dew_temperature, dan air_temperature"
   ]
  },
  {
   "cell_type": "code",
   "execution_count": 91,
   "metadata": {
    "colab": {
     "base_uri": "https://localhost:8080/",
     "height": 269
    },
    "id": "bMdUX2E-pS_I",
    "outputId": "f09a3cd3-dd9d-4cbb-d477-4dd21237c1f0"
   },
   "outputs": [
    {
     "data": {
      "text/html": [
       "\n",
       "  <div id=\"df-6a619d17-bc06-4582-ad08-3b630139d35e\">\n",
       "    <div class=\"colab-df-container\">\n",
       "      <div>\n",
       "<style scoped>\n",
       "    .dataframe tbody tr th:only-of-type {\n",
       "        vertical-align: middle;\n",
       "    }\n",
       "\n",
       "    .dataframe tbody tr th {\n",
       "        vertical-align: top;\n",
       "    }\n",
       "\n",
       "    .dataframe thead th {\n",
       "        text-align: right;\n",
       "    }\n",
       "</style>\n",
       "<table border=\"1\" class=\"dataframe\">\n",
       "  <thead>\n",
       "    <tr style=\"text-align: right;\">\n",
       "      <th></th>\n",
       "      <th>count</th>\n",
       "      <th>mean</th>\n",
       "      <th>std</th>\n",
       "      <th>min</th>\n",
       "      <th>25%</th>\n",
       "      <th>50%</th>\n",
       "      <th>75%</th>\n",
       "      <th>max</th>\n",
       "    </tr>\n",
       "  </thead>\n",
       "  <tbody>\n",
       "    <tr>\n",
       "      <th>cloud_coverage</th>\n",
       "      <td>10351087.0</td>\n",
       "      <td>NaN</td>\n",
       "      <td>0.0</td>\n",
       "      <td>0.00000</td>\n",
       "      <td>0.000000</td>\n",
       "      <td>0.000000</td>\n",
       "      <td>4.000000</td>\n",
       "      <td>9.00000</td>\n",
       "    </tr>\n",
       "    <tr>\n",
       "      <th>precip_depth_1_hr</th>\n",
       "      <td>14793084.0</td>\n",
       "      <td>NaN</td>\n",
       "      <td>NaN</td>\n",
       "      <td>-1.00000</td>\n",
       "      <td>0.000000</td>\n",
       "      <td>0.000000</td>\n",
       "      <td>0.000000</td>\n",
       "      <td>343.00000</td>\n",
       "    </tr>\n",
       "    <tr>\n",
       "      <th>wind_direction</th>\n",
       "      <td>16990067.0</td>\n",
       "      <td>NaN</td>\n",
       "      <td>NaN</td>\n",
       "      <td>0.00000</td>\n",
       "      <td>70.000000</td>\n",
       "      <td>180.000000</td>\n",
       "      <td>280.000000</td>\n",
       "      <td>360.00000</td>\n",
       "    </tr>\n",
       "    <tr>\n",
       "      <th>sea_level_pressure</th>\n",
       "      <td>17127556.0</td>\n",
       "      <td>NaN</td>\n",
       "      <td>NaN</td>\n",
       "      <td>968.00000</td>\n",
       "      <td>1011.500000</td>\n",
       "      <td>1016.000000</td>\n",
       "      <td>1020.500000</td>\n",
       "      <td>1046.00000</td>\n",
       "    </tr>\n",
       "    <tr>\n",
       "      <th>wind_speed</th>\n",
       "      <td>18182415.0</td>\n",
       "      <td>NaN</td>\n",
       "      <td>0.0</td>\n",
       "      <td>0.00000</td>\n",
       "      <td>2.099609</td>\n",
       "      <td>3.099609</td>\n",
       "      <td>4.601562</td>\n",
       "      <td>19.00000</td>\n",
       "    </tr>\n",
       "    <tr>\n",
       "      <th>dew_temperature</th>\n",
       "      <td>18222416.0</td>\n",
       "      <td>NaN</td>\n",
       "      <td>0.0</td>\n",
       "      <td>-35.00000</td>\n",
       "      <td>0.600098</td>\n",
       "      <td>8.898438</td>\n",
       "      <td>16.093750</td>\n",
       "      <td>26.09375</td>\n",
       "    </tr>\n",
       "    <tr>\n",
       "      <th>air_temperature</th>\n",
       "      <td>18225511.0</td>\n",
       "      <td>NaN</td>\n",
       "      <td>0.0</td>\n",
       "      <td>-28.90625</td>\n",
       "      <td>8.898438</td>\n",
       "      <td>16.703125</td>\n",
       "      <td>24.296875</td>\n",
       "      <td>47.18750</td>\n",
       "    </tr>\n",
       "  </tbody>\n",
       "</table>\n",
       "</div>\n",
       "      <button class=\"colab-df-convert\" onclick=\"convertToInteractive('df-6a619d17-bc06-4582-ad08-3b630139d35e')\"\n",
       "              title=\"Convert this dataframe to an interactive table.\"\n",
       "              style=\"display:none;\">\n",
       "        \n",
       "  <svg xmlns=\"http://www.w3.org/2000/svg\" height=\"24px\"viewBox=\"0 0 24 24\"\n",
       "       width=\"24px\">\n",
       "    <path d=\"M0 0h24v24H0V0z\" fill=\"none\"/>\n",
       "    <path d=\"M18.56 5.44l.94 2.06.94-2.06 2.06-.94-2.06-.94-.94-2.06-.94 2.06-2.06.94zm-11 1L8.5 8.5l.94-2.06 2.06-.94-2.06-.94L8.5 2.5l-.94 2.06-2.06.94zm10 10l.94 2.06.94-2.06 2.06-.94-2.06-.94-.94-2.06-.94 2.06-2.06.94z\"/><path d=\"M17.41 7.96l-1.37-1.37c-.4-.4-.92-.59-1.43-.59-.52 0-1.04.2-1.43.59L10.3 9.45l-7.72 7.72c-.78.78-.78 2.05 0 2.83L4 21.41c.39.39.9.59 1.41.59.51 0 1.02-.2 1.41-.59l7.78-7.78 2.81-2.81c.8-.78.8-2.07 0-2.86zM5.41 20L4 18.59l7.72-7.72 1.47 1.35L5.41 20z\"/>\n",
       "  </svg>\n",
       "      </button>\n",
       "      \n",
       "  <style>\n",
       "    .colab-df-container {\n",
       "      display:flex;\n",
       "      flex-wrap:wrap;\n",
       "      gap: 12px;\n",
       "    }\n",
       "\n",
       "    .colab-df-convert {\n",
       "      background-color: #E8F0FE;\n",
       "      border: none;\n",
       "      border-radius: 50%;\n",
       "      cursor: pointer;\n",
       "      display: none;\n",
       "      fill: #1967D2;\n",
       "      height: 32px;\n",
       "      padding: 0 0 0 0;\n",
       "      width: 32px;\n",
       "    }\n",
       "\n",
       "    .colab-df-convert:hover {\n",
       "      background-color: #E2EBFA;\n",
       "      box-shadow: 0px 1px 2px rgba(60, 64, 67, 0.3), 0px 1px 3px 1px rgba(60, 64, 67, 0.15);\n",
       "      fill: #174EA6;\n",
       "    }\n",
       "\n",
       "    [theme=dark] .colab-df-convert {\n",
       "      background-color: #3B4455;\n",
       "      fill: #D2E3FC;\n",
       "    }\n",
       "\n",
       "    [theme=dark] .colab-df-convert:hover {\n",
       "      background-color: #434B5C;\n",
       "      box-shadow: 0px 1px 3px 1px rgba(0, 0, 0, 0.15);\n",
       "      filter: drop-shadow(0px 1px 2px rgba(0, 0, 0, 0.3));\n",
       "      fill: #FFFFFF;\n",
       "    }\n",
       "  </style>\n",
       "\n",
       "      <script>\n",
       "        const buttonEl =\n",
       "          document.querySelector('#df-6a619d17-bc06-4582-ad08-3b630139d35e button.colab-df-convert');\n",
       "        buttonEl.style.display =\n",
       "          google.colab.kernel.accessAllowed ? 'block' : 'none';\n",
       "\n",
       "        async function convertToInteractive(key) {\n",
       "          const element = document.querySelector('#df-6a619d17-bc06-4582-ad08-3b630139d35e');\n",
       "          const dataTable =\n",
       "            await google.colab.kernel.invokeFunction('convertToInteractive',\n",
       "                                                     [key], {});\n",
       "          if (!dataTable) return;\n",
       "\n",
       "          const docLinkHtml = 'Like what you see? Visit the ' +\n",
       "            '<a target=\"_blank\" href=https://colab.research.google.com/notebooks/data_table.ipynb>data table notebook</a>'\n",
       "            + ' to learn more about interactive tables.';\n",
       "          element.innerHTML = '';\n",
       "          dataTable['output_type'] = 'display_data';\n",
       "          await google.colab.output.renderOutput(dataTable, element);\n",
       "          const docLink = document.createElement('div');\n",
       "          docLink.innerHTML = docLinkHtml;\n",
       "          element.appendChild(docLink);\n",
       "        }\n",
       "      </script>\n",
       "    </div>\n",
       "  </div>\n",
       "  "
      ],
      "text/plain": [
       "                         count  mean  std        min          25%  \\\n",
       "cloud_coverage      10351087.0   NaN  0.0    0.00000     0.000000   \n",
       "precip_depth_1_hr   14793084.0   NaN  NaN   -1.00000     0.000000   \n",
       "wind_direction      16990067.0   NaN  NaN    0.00000    70.000000   \n",
       "sea_level_pressure  17127556.0   NaN  NaN  968.00000  1011.500000   \n",
       "wind_speed          18182415.0   NaN  0.0    0.00000     2.099609   \n",
       "dew_temperature     18222416.0   NaN  0.0  -35.00000     0.600098   \n",
       "air_temperature     18225511.0   NaN  0.0  -28.90625     8.898438   \n",
       "\n",
       "                            50%          75%         max  \n",
       "cloud_coverage         0.000000     4.000000     9.00000  \n",
       "precip_depth_1_hr      0.000000     0.000000   343.00000  \n",
       "wind_direction       180.000000   280.000000   360.00000  \n",
       "sea_level_pressure  1016.000000  1020.500000  1046.00000  \n",
       "wind_speed             3.099609     4.601562    19.00000  \n",
       "dew_temperature        8.898438    16.093750    26.09375  \n",
       "air_temperature       16.703125    24.296875    47.18750  "
      ]
     },
     "execution_count": 91,
     "metadata": {},
     "output_type": "execute_result"
    }
   ],
   "source": [
    "fitur_missing_value = ['cloud_coverage','precip_depth_1_hr', 'wind_direction', 'sea_level_pressure', 'wind_speed', 'dew_temperature', 'air_temperature']\n",
    "df_all_Train[fitur_missing_value].describe().transpose()"
   ]
  },
  {
   "cell_type": "code",
   "execution_count": 92,
   "metadata": {
    "id": "yE1VGRGXpfQ8"
   },
   "outputs": [],
   "source": [
    "# Karena Meannya berupa NaN, maka missing value yang akan dilakukan adalah dengan mengimputasinya dengan nilai Median\n",
    "\n",
    "df_all_Train['cloud_coverage'].fillna(df_all_Train['cloud_coverage'].median(), inplace=True)\n",
    "df_all_Train['sea_level_pressure'].fillna(df_all_Train['sea_level_pressure'].median(), inplace=True)\n",
    "df_all_Train['precip_depth_1_hr'].fillna(df_all_Train['precip_depth_1_hr'].median(), inplace=True)\n",
    "df_all_Train['wind_direction'].fillna(df_all_Train['wind_direction'].median(), inplace=True)\n",
    "df_all_Train['wind_speed'].fillna(df_all_Train['wind_speed'].median(), inplace=True)\n",
    "df_all_Train['dew_temperature'].fillna(df_all_Train['dew_temperature'].median(), inplace=True)\n",
    "df_all_Train['air_temperature'].fillna(df_all_Train['air_temperature'].median(), inplace=True)"
   ]
  },
  {
   "cell_type": "code",
   "execution_count": 93,
   "metadata": {
    "colab": {
     "base_uri": "https://localhost:8080/"
    },
    "id": "T1D54SL6ppME",
    "outputId": "f6b0328e-5990-4856-83ac-5325e7efd800"
   },
   "outputs": [
    {
     "data": {
      "text/plain": [
       "building_id           0.0\n",
       "meter                 0.0\n",
       "timestamp             0.0\n",
       "meter_reading         0.0\n",
       "site_id               0.0\n",
       "primary_use           0.0\n",
       "square_feet           0.0\n",
       "air_temperature       0.0\n",
       "cloud_coverage        0.0\n",
       "dew_temperature       0.0\n",
       "precip_depth_1_hr     0.0\n",
       "sea_level_pressure    0.0\n",
       "wind_direction        0.0\n",
       "wind_speed            0.0\n",
       "dtype: float64"
      ]
     },
     "execution_count": 93,
     "metadata": {},
     "output_type": "execute_result"
    }
   ],
   "source": [
    "# Cek Missing Value setelah dilakukan imputasi data\n",
    "\n",
    "df_all_Train.isnull().sum() / len(df_all_Train)"
   ]
  },
  {
   "cell_type": "markdown",
   "metadata": {
    "id": "6GVa3J85pye1"
   },
   "source": [
    "Setelah dilakukan imputasi data dengan nilai mediannya, terlihat bahwa data tersebut **sudah tidak memiliki missing value.**"
   ]
  },
  {
   "cell_type": "code",
   "execution_count": 94,
   "metadata": {
    "colab": {
     "base_uri": "https://localhost:8080/"
    },
    "id": "ppz_KM1Xp_30",
    "outputId": "bb2cea50-fc68-48d3-9de4-9d43bdfbc71e"
   },
   "outputs": [
    {
     "name": "stdout",
     "output_type": "stream",
     "text": [
      "<class 'pandas.core.frame.DataFrame'>\n",
      "Int64Index: 18314942 entries, 45 to 20216099\n",
      "Data columns (total 14 columns):\n",
      " #   Column              Dtype   \n",
      "---  ------              -----   \n",
      " 0   building_id         int16   \n",
      " 1   meter               object  \n",
      " 2   timestamp           category\n",
      " 3   meter_reading       float32 \n",
      " 4   site_id             int8    \n",
      " 5   primary_use         category\n",
      " 6   square_feet         int32   \n",
      " 7   air_temperature     float16 \n",
      " 8   cloud_coverage      float16 \n",
      " 9   dew_temperature     float16 \n",
      " 10  precip_depth_1_hr   float16 \n",
      " 11  sea_level_pressure  float16 \n",
      " 12  wind_direction      float16 \n",
      " 13  wind_speed          float16 \n",
      "dtypes: category(2), float16(7), float32(1), int16(1), int32(1), int8(1), object(1)\n",
      "memory usage: 768.8+ MB\n"
     ]
    }
   ],
   "source": [
    "# Informasi data Train terbaru\n",
    "\n",
    "df_all_Train.info()"
   ]
  },
  {
   "cell_type": "code",
   "execution_count": 95,
   "metadata": {
    "colab": {
     "base_uri": "https://localhost:8080/",
     "height": 1000
    },
    "id": "cwXzPU76qJpx",
    "outputId": "a2bbd37e-c501-4352-fb6b-6cdbe3fdf43d"
   },
   "outputs": [
    {
     "data": {
      "text/plain": [
       "Text(0.5, 1.0, 'Matriks Korelasi')"
      ]
     },
     "execution_count": 95,
     "metadata": {},
     "output_type": "execute_result"
    },
    {
     "data": {
      "image/png": "[encoded data removed]",
      "text/plain": [
       "<Figure size 1296x1296 with 2 Axes>"
      ]
     },
     "metadata": {},
     "output_type": "display_data"
    }
   ],
   "source": [
    "# Cek Matriks Korelasi\n",
    "\n",
    "plt.figure(figsize=(18,18))\n",
    "sns.heatmap(df_all_Train.corr(), annot=True, fmt='.1g', vmin=-1, vmax=1, center=0, square=True, cmap='YlGnBu')\n",
    "plt.title('Matriks Korelasi')"
   ]
  },
  {
   "cell_type": "code",
   "execution_count": 96,
   "metadata": {
    "id": "hl8VupfMqTep"
   },
   "outputs": [],
   "source": [
    "df_all_Train.to_csv('Data Hasil Pre Processing Tugas Proyek UTS EVDA.csv', index=False)"
   ]
  }
 ],
 "metadata": {
  "accelerator": "GPU",
  "colab": {
   "authorship_tag": "ABX9TyPmZJfO6mLELCXx44B+PSwK",
   "collapsed_sections": [],
   "include_colab_link": true,
   "name": "Proyek_UTS_EVDA.ipynb",
   "provenance": []
  },
  "kernelspec": {
   "display_name": "Python 3 (ipykernel)",
   "language": "python",
   "name": "python3"
  },
  "language_info": {
   "codemirror_mode": {
    "name": "ipython",
    "version": 3
   },
   "file_extension": ".py",
   "mimetype": "text/x-python",
   "name": "python",
   "nbconvert_exporter": "python",
   "pygments_lexer": "ipython3",
   "version": "3.9.13"
  }
 },
 "nbformat": 4,
 "nbformat_minor": 1
}
